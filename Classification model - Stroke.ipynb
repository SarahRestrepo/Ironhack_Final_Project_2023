{
 "cells": [
  {
   "cell_type": "code",
   "execution_count": 373,
   "id": "072d8ec4",
   "metadata": {},
   "outputs": [],
   "source": [
    "import pandas as pd\n",
    "import numpy as np\n",
    "from sklearn.preprocessing import StandardScaler, OneHotEncoder,LabelEncoder\n",
    "from sklearn.model_selection import train_test_split, cross_val_score\n",
    "from sklearn.linear_model import LogisticRegression\n",
    "import statsmodels.api as sm\n",
    "from imblearn.under_sampling import TomekLinks\n",
    "from imblearn.over_sampling import SMOTE\n",
    "from sklearn.metrics import confusion_matrix,ConfusionMatrixDisplay,classification_report,accuracy_score, roc_auc_score, roc_curve, auc  \n",
    "from scipy.stats import bootstrap\n",
    "from sklearn.neighbors import KNeighborsClassifier\n",
    "from sklearn.ensemble import RandomForestClassifier\n",
    "import matplotlib.pyplot as plt\n",
    "import xgboost as xgb\n",
    "import seaborn as sns"
   ]
  },
  {
   "cell_type": "code",
   "execution_count": 374,
   "id": "526f71ef",
   "metadata": {},
   "outputs": [],
   "source": [
    "df = pd.read_csv('/Users/sarahrestrepo/Desktop/Final_Project/data_cleaning_stroke.csv')"
   ]
  },
  {
   "cell_type": "code",
   "execution_count": 375,
   "id": "236b1f73",
   "metadata": {},
   "outputs": [
    {
     "data": {
      "text/html": [
       "<div>\n",
       "<style scoped>\n",
       "    .dataframe tbody tr th:only-of-type {\n",
       "        vertical-align: middle;\n",
       "    }\n",
       "\n",
       "    .dataframe tbody tr th {\n",
       "        vertical-align: top;\n",
       "    }\n",
       "\n",
       "    .dataframe thead th {\n",
       "        text-align: right;\n",
       "    }\n",
       "</style>\n",
       "<table border=\"1\" class=\"dataframe\">\n",
       "  <thead>\n",
       "    <tr style=\"text-align: right;\">\n",
       "      <th></th>\n",
       "      <th>Unnamed: 0</th>\n",
       "      <th>gender</th>\n",
       "      <th>age</th>\n",
       "      <th>hypertension</th>\n",
       "      <th>heart_disease</th>\n",
       "      <th>ever_married</th>\n",
       "      <th>work_type</th>\n",
       "      <th>residence_type</th>\n",
       "      <th>avg_glucose_level</th>\n",
       "      <th>bmi</th>\n",
       "      <th>smoking_status</th>\n",
       "      <th>stroke</th>\n",
       "      <th>avg_glucose_level_BoxCox</th>\n",
       "      <th>bmi_BoxCox</th>\n",
       "    </tr>\n",
       "  </thead>\n",
       "  <tbody>\n",
       "    <tr>\n",
       "      <th>0</th>\n",
       "      <td>0</td>\n",
       "      <td>Male</td>\n",
       "      <td>67</td>\n",
       "      <td>No</td>\n",
       "      <td>Yes</td>\n",
       "      <td>Yes</td>\n",
       "      <td>Private</td>\n",
       "      <td>Urban</td>\n",
       "      <td>228.69</td>\n",
       "      <td>36.600000</td>\n",
       "      <td>formerly smoked</td>\n",
       "      <td>Yes</td>\n",
       "      <td>0.926296</td>\n",
       "      <td>3.501538</td>\n",
       "    </tr>\n",
       "    <tr>\n",
       "      <th>1</th>\n",
       "      <td>1</td>\n",
       "      <td>Female</td>\n",
       "      <td>61</td>\n",
       "      <td>No</td>\n",
       "      <td>No</td>\n",
       "      <td>Yes</td>\n",
       "      <td>Self-employed</td>\n",
       "      <td>Rural</td>\n",
       "      <td>202.21</td>\n",
       "      <td>28.893237</td>\n",
       "      <td>never smoked</td>\n",
       "      <td>Yes</td>\n",
       "      <td>0.925920</td>\n",
       "      <td>3.287371</td>\n",
       "    </tr>\n",
       "    <tr>\n",
       "      <th>2</th>\n",
       "      <td>2</td>\n",
       "      <td>Male</td>\n",
       "      <td>80</td>\n",
       "      <td>No</td>\n",
       "      <td>Yes</td>\n",
       "      <td>Yes</td>\n",
       "      <td>Private</td>\n",
       "      <td>Rural</td>\n",
       "      <td>105.92</td>\n",
       "      <td>32.500000</td>\n",
       "      <td>never smoked</td>\n",
       "      <td>Yes</td>\n",
       "      <td>0.922886</td>\n",
       "      <td>3.393853</td>\n",
       "    </tr>\n",
       "    <tr>\n",
       "      <th>3</th>\n",
       "      <td>3</td>\n",
       "      <td>Female</td>\n",
       "      <td>49</td>\n",
       "      <td>No</td>\n",
       "      <td>No</td>\n",
       "      <td>Yes</td>\n",
       "      <td>Private</td>\n",
       "      <td>Urban</td>\n",
       "      <td>171.23</td>\n",
       "      <td>34.400000</td>\n",
       "      <td>smokes</td>\n",
       "      <td>Yes</td>\n",
       "      <td>0.925326</td>\n",
       "      <td>3.445335</td>\n",
       "    </tr>\n",
       "    <tr>\n",
       "      <th>4</th>\n",
       "      <td>4</td>\n",
       "      <td>Female</td>\n",
       "      <td>79</td>\n",
       "      <td>Yes</td>\n",
       "      <td>No</td>\n",
       "      <td>Yes</td>\n",
       "      <td>Self-employed</td>\n",
       "      <td>Rural</td>\n",
       "      <td>174.12</td>\n",
       "      <td>24.000000</td>\n",
       "      <td>never smoked</td>\n",
       "      <td>Yes</td>\n",
       "      <td>0.925391</td>\n",
       "      <td>3.119797</td>\n",
       "    </tr>\n",
       "  </tbody>\n",
       "</table>\n",
       "</div>"
      ],
      "text/plain": [
       "   Unnamed: 0  gender  age hypertension heart_disease ever_married  \\\n",
       "0           0    Male   67           No           Yes          Yes   \n",
       "1           1  Female   61           No            No          Yes   \n",
       "2           2    Male   80           No           Yes          Yes   \n",
       "3           3  Female   49           No            No          Yes   \n",
       "4           4  Female   79          Yes            No          Yes   \n",
       "\n",
       "       work_type residence_type  avg_glucose_level        bmi  \\\n",
       "0        Private          Urban             228.69  36.600000   \n",
       "1  Self-employed          Rural             202.21  28.893237   \n",
       "2        Private          Rural             105.92  32.500000   \n",
       "3        Private          Urban             171.23  34.400000   \n",
       "4  Self-employed          Rural             174.12  24.000000   \n",
       "\n",
       "    smoking_status stroke  avg_glucose_level_BoxCox  bmi_BoxCox  \n",
       "0  formerly smoked    Yes                  0.926296    3.501538  \n",
       "1     never smoked    Yes                  0.925920    3.287371  \n",
       "2     never smoked    Yes                  0.922886    3.393853  \n",
       "3           smokes    Yes                  0.925326    3.445335  \n",
       "4     never smoked    Yes                  0.925391    3.119797  "
      ]
     },
     "execution_count": 375,
     "metadata": {},
     "output_type": "execute_result"
    }
   ],
   "source": [
    "df.head()"
   ]
  },
  {
   "cell_type": "code",
   "execution_count": 376,
   "id": "d294da37",
   "metadata": {},
   "outputs": [
    {
     "data": {
      "text/plain": [
       "(5109, 14)"
      ]
     },
     "execution_count": 376,
     "metadata": {},
     "output_type": "execute_result"
    }
   ],
   "source": [
    "df.shape"
   ]
  },
  {
   "cell_type": "code",
   "execution_count": 377,
   "id": "6dcfbb2f",
   "metadata": {},
   "outputs": [],
   "source": [
    "df.drop(['Unnamed: 0'], axis=1, inplace=True)"
   ]
  },
  {
   "cell_type": "code",
   "execution_count": 378,
   "id": "d5513f6f",
   "metadata": {},
   "outputs": [
    {
     "data": {
      "text/plain": [
       "No     4860\n",
       "Yes     249\n",
       "Name: stroke, dtype: int64"
      ]
     },
     "execution_count": 378,
     "metadata": {},
     "output_type": "execute_result"
    }
   ],
   "source": [
    "df['stroke'].value_counts()"
   ]
  },
  {
   "cell_type": "code",
   "execution_count": 379,
   "id": "f3a7bdd1",
   "metadata": {},
   "outputs": [],
   "source": [
    "df=df.drop(['bmi','avg_glucose_level'],axis = 1)"
   ]
  },
  {
   "cell_type": "code",
   "execution_count": 380,
   "id": "16ac85e6",
   "metadata": {},
   "outputs": [
    {
     "data": {
      "text/plain": [
       "gender                       object\n",
       "age                           int64\n",
       "hypertension                 object\n",
       "heart_disease                object\n",
       "ever_married                 object\n",
       "work_type                    object\n",
       "residence_type               object\n",
       "smoking_status               object\n",
       "stroke                       object\n",
       "avg_glucose_level_BoxCox    float64\n",
       "bmi_BoxCox                  float64\n",
       "dtype: object"
      ]
     },
     "execution_count": 380,
     "metadata": {},
     "output_type": "execute_result"
    }
   ],
   "source": [
    "df.dtypes"
   ]
  },
  {
   "cell_type": "code",
   "execution_count": 381,
   "id": "ff159f42",
   "metadata": {},
   "outputs": [],
   "source": [
    "x = df.drop('stroke',axis =1)\n",
    "y = df['stroke']"
   ]
  },
  {
   "cell_type": "code",
   "execution_count": 382,
   "id": "e043309e",
   "metadata": {},
   "outputs": [
    {
     "data": {
      "text/html": [
       "<div>\n",
       "<style scoped>\n",
       "    .dataframe tbody tr th:only-of-type {\n",
       "        vertical-align: middle;\n",
       "    }\n",
       "\n",
       "    .dataframe tbody tr th {\n",
       "        vertical-align: top;\n",
       "    }\n",
       "\n",
       "    .dataframe thead th {\n",
       "        text-align: right;\n",
       "    }\n",
       "</style>\n",
       "<table border=\"1\" class=\"dataframe\">\n",
       "  <thead>\n",
       "    <tr style=\"text-align: right;\">\n",
       "      <th></th>\n",
       "      <th>0</th>\n",
       "      <th>1</th>\n",
       "      <th>2</th>\n",
       "    </tr>\n",
       "  </thead>\n",
       "  <tbody>\n",
       "    <tr>\n",
       "      <th>0</th>\n",
       "      <td>1.050758</td>\n",
       "      <td>1.862392</td>\n",
       "      <td>1.040788</td>\n",
       "    </tr>\n",
       "    <tr>\n",
       "      <th>1</th>\n",
       "      <td>0.785653</td>\n",
       "      <td>1.700511</td>\n",
       "      <td>0.127983</td>\n",
       "    </tr>\n",
       "    <tr>\n",
       "      <th>2</th>\n",
       "      <td>1.625151</td>\n",
       "      <td>0.395031</td>\n",
       "      <td>0.581821</td>\n",
       "    </tr>\n",
       "    <tr>\n",
       "      <th>3</th>\n",
       "      <td>0.255444</td>\n",
       "      <td>1.445120</td>\n",
       "      <td>0.801246</td>\n",
       "    </tr>\n",
       "    <tr>\n",
       "      <th>4</th>\n",
       "      <td>1.580967</td>\n",
       "      <td>1.472918</td>\n",
       "      <td>-0.586233</td>\n",
       "    </tr>\n",
       "    <tr>\n",
       "      <th>...</th>\n",
       "      <td>...</td>\n",
       "      <td>...</td>\n",
       "      <td>...</td>\n",
       "    </tr>\n",
       "    <tr>\n",
       "      <th>5104</th>\n",
       "      <td>1.625151</td>\n",
       "      <td>-0.348434</td>\n",
       "      <td>0.127983</td>\n",
       "    </tr>\n",
       "    <tr>\n",
       "      <th>5105</th>\n",
       "      <td>1.669335</td>\n",
       "      <td>0.822589</td>\n",
       "      <td>1.384231</td>\n",
       "    </tr>\n",
       "    <tr>\n",
       "      <th>5106</th>\n",
       "      <td>-0.363133</td>\n",
       "      <td>-0.381167</td>\n",
       "      <td>0.349324</td>\n",
       "    </tr>\n",
       "    <tr>\n",
       "      <th>5107</th>\n",
       "      <td>0.343813</td>\n",
       "      <td>1.395291</td>\n",
       "      <td>-0.338090</td>\n",
       "    </tr>\n",
       "    <tr>\n",
       "      <th>5108</th>\n",
       "      <td>0.034524</td>\n",
       "      <td>-0.284351</td>\n",
       "      <td>-0.248940</td>\n",
       "    </tr>\n",
       "  </tbody>\n",
       "</table>\n",
       "<p>5109 rows × 3 columns</p>\n",
       "</div>"
      ],
      "text/plain": [
       "             0         1         2\n",
       "0     1.050758  1.862392  1.040788\n",
       "1     0.785653  1.700511  0.127983\n",
       "2     1.625151  0.395031  0.581821\n",
       "3     0.255444  1.445120  0.801246\n",
       "4     1.580967  1.472918 -0.586233\n",
       "...        ...       ...       ...\n",
       "5104  1.625151 -0.348434  0.127983\n",
       "5105  1.669335  0.822589  1.384231\n",
       "5106 -0.363133 -0.381167  0.349324\n",
       "5107  0.343813  1.395291 -0.338090\n",
       "5108  0.034524 -0.284351 -0.248940\n",
       "\n",
       "[5109 rows x 3 columns]"
      ]
     },
     "execution_count": 382,
     "metadata": {},
     "output_type": "execute_result"
    }
   ],
   "source": [
    "scaled = StandardScaler().fit_transform(x.select_dtypes(np.number))\n",
    "scaled = pd.DataFrame(scaled)\n",
    "scaled"
   ]
  },
  {
   "cell_type": "code",
   "execution_count": 383,
   "id": "ddf415cc",
   "metadata": {},
   "outputs": [
    {
     "data": {
      "text/html": [
       "<div>\n",
       "<style scoped>\n",
       "    .dataframe tbody tr th:only-of-type {\n",
       "        vertical-align: middle;\n",
       "    }\n",
       "\n",
       "    .dataframe tbody tr th {\n",
       "        vertical-align: top;\n",
       "    }\n",
       "\n",
       "    .dataframe thead th {\n",
       "        text-align: right;\n",
       "    }\n",
       "</style>\n",
       "<table border=\"1\" class=\"dataframe\">\n",
       "  <thead>\n",
       "    <tr style=\"text-align: right;\">\n",
       "      <th></th>\n",
       "      <th>0</th>\n",
       "      <th>1</th>\n",
       "      <th>2</th>\n",
       "      <th>3</th>\n",
       "      <th>4</th>\n",
       "      <th>5</th>\n",
       "      <th>6</th>\n",
       "      <th>7</th>\n",
       "      <th>8</th>\n",
       "      <th>9</th>\n",
       "      <th>10</th>\n",
       "    </tr>\n",
       "  </thead>\n",
       "  <tbody>\n",
       "    <tr>\n",
       "      <th>0</th>\n",
       "      <td>1.0</td>\n",
       "      <td>0.0</td>\n",
       "      <td>1.0</td>\n",
       "      <td>1.0</td>\n",
       "      <td>0.0</td>\n",
       "      <td>1.0</td>\n",
       "      <td>0.0</td>\n",
       "      <td>1.0</td>\n",
       "      <td>1.0</td>\n",
       "      <td>0.0</td>\n",
       "      <td>0.0</td>\n",
       "    </tr>\n",
       "    <tr>\n",
       "      <th>1</th>\n",
       "      <td>0.0</td>\n",
       "      <td>0.0</td>\n",
       "      <td>0.0</td>\n",
       "      <td>1.0</td>\n",
       "      <td>0.0</td>\n",
       "      <td>0.0</td>\n",
       "      <td>1.0</td>\n",
       "      <td>0.0</td>\n",
       "      <td>0.0</td>\n",
       "      <td>1.0</td>\n",
       "      <td>0.0</td>\n",
       "    </tr>\n",
       "    <tr>\n",
       "      <th>2</th>\n",
       "      <td>1.0</td>\n",
       "      <td>0.0</td>\n",
       "      <td>1.0</td>\n",
       "      <td>1.0</td>\n",
       "      <td>0.0</td>\n",
       "      <td>1.0</td>\n",
       "      <td>0.0</td>\n",
       "      <td>0.0</td>\n",
       "      <td>0.0</td>\n",
       "      <td>1.0</td>\n",
       "      <td>0.0</td>\n",
       "    </tr>\n",
       "    <tr>\n",
       "      <th>3</th>\n",
       "      <td>0.0</td>\n",
       "      <td>0.0</td>\n",
       "      <td>0.0</td>\n",
       "      <td>1.0</td>\n",
       "      <td>0.0</td>\n",
       "      <td>1.0</td>\n",
       "      <td>0.0</td>\n",
       "      <td>1.0</td>\n",
       "      <td>0.0</td>\n",
       "      <td>0.0</td>\n",
       "      <td>1.0</td>\n",
       "    </tr>\n",
       "    <tr>\n",
       "      <th>4</th>\n",
       "      <td>0.0</td>\n",
       "      <td>1.0</td>\n",
       "      <td>0.0</td>\n",
       "      <td>1.0</td>\n",
       "      <td>0.0</td>\n",
       "      <td>0.0</td>\n",
       "      <td>1.0</td>\n",
       "      <td>0.0</td>\n",
       "      <td>0.0</td>\n",
       "      <td>1.0</td>\n",
       "      <td>0.0</td>\n",
       "    </tr>\n",
       "  </tbody>\n",
       "</table>\n",
       "</div>"
      ],
      "text/plain": [
       "    0    1    2    3    4    5    6    7    8    9    10\n",
       "0  1.0  0.0  1.0  1.0  0.0  1.0  0.0  1.0  1.0  0.0  0.0\n",
       "1  0.0  0.0  0.0  1.0  0.0  0.0  1.0  0.0  0.0  1.0  0.0\n",
       "2  1.0  0.0  1.0  1.0  0.0  1.0  0.0  0.0  0.0  1.0  0.0\n",
       "3  0.0  0.0  0.0  1.0  0.0  1.0  0.0  1.0  0.0  0.0  1.0\n",
       "4  0.0  1.0  0.0  1.0  0.0  0.0  1.0  0.0  0.0  1.0  0.0"
      ]
     },
     "execution_count": 383,
     "metadata": {},
     "output_type": "execute_result"
    }
   ],
   "source": [
    "encode = OneHotEncoder(drop='first').fit_transform(x.select_dtypes(object)).toarray()\n",
    "encoded = pd.DataFrame(encode)\n",
    "encoded.head()"
   ]
  },
  {
   "cell_type": "code",
   "execution_count": 384,
   "id": "06faf867",
   "metadata": {},
   "outputs": [],
   "source": [
    "label_mapping = {'No': 0, 'Yes': 1}\n",
    "y = y.map(label_mapping)"
   ]
  },
  {
   "cell_type": "code",
   "execution_count": 385,
   "id": "89fbb271",
   "metadata": {},
   "outputs": [
    {
     "data": {
      "text/plain": [
       "5104    0\n",
       "5105    0\n",
       "5106    0\n",
       "5107    0\n",
       "5108    0\n",
       "Name: stroke, dtype: int64"
      ]
     },
     "execution_count": 385,
     "metadata": {},
     "output_type": "execute_result"
    }
   ],
   "source": [
    "y.tail()"
   ]
  },
  {
   "cell_type": "code",
   "execution_count": 386,
   "id": "52fd972b",
   "metadata": {},
   "outputs": [
    {
     "data": {
      "text/html": [
       "<div>\n",
       "<style scoped>\n",
       "    .dataframe tbody tr th:only-of-type {\n",
       "        vertical-align: middle;\n",
       "    }\n",
       "\n",
       "    .dataframe tbody tr th {\n",
       "        vertical-align: top;\n",
       "    }\n",
       "\n",
       "    .dataframe thead th {\n",
       "        text-align: right;\n",
       "    }\n",
       "</style>\n",
       "<table border=\"1\" class=\"dataframe\">\n",
       "  <thead>\n",
       "    <tr style=\"text-align: right;\">\n",
       "      <th></th>\n",
       "      <th>0</th>\n",
       "      <th>1</th>\n",
       "      <th>2</th>\n",
       "      <th>3</th>\n",
       "      <th>4</th>\n",
       "      <th>5</th>\n",
       "      <th>6</th>\n",
       "      <th>7</th>\n",
       "      <th>8</th>\n",
       "      <th>9</th>\n",
       "      <th>10</th>\n",
       "      <th>11</th>\n",
       "      <th>12</th>\n",
       "      <th>13</th>\n",
       "    </tr>\n",
       "  </thead>\n",
       "  <tbody>\n",
       "    <tr>\n",
       "      <th>0</th>\n",
       "      <td>1.050758</td>\n",
       "      <td>1.862392</td>\n",
       "      <td>1.040788</td>\n",
       "      <td>1.0</td>\n",
       "      <td>0.0</td>\n",
       "      <td>1.0</td>\n",
       "      <td>1.0</td>\n",
       "      <td>0.0</td>\n",
       "      <td>1.0</td>\n",
       "      <td>0.0</td>\n",
       "      <td>1.0</td>\n",
       "      <td>1.0</td>\n",
       "      <td>0.0</td>\n",
       "      <td>0.0</td>\n",
       "    </tr>\n",
       "    <tr>\n",
       "      <th>1</th>\n",
       "      <td>0.785653</td>\n",
       "      <td>1.700511</td>\n",
       "      <td>0.127983</td>\n",
       "      <td>0.0</td>\n",
       "      <td>0.0</td>\n",
       "      <td>0.0</td>\n",
       "      <td>1.0</td>\n",
       "      <td>0.0</td>\n",
       "      <td>0.0</td>\n",
       "      <td>1.0</td>\n",
       "      <td>0.0</td>\n",
       "      <td>0.0</td>\n",
       "      <td>1.0</td>\n",
       "      <td>0.0</td>\n",
       "    </tr>\n",
       "    <tr>\n",
       "      <th>2</th>\n",
       "      <td>1.625151</td>\n",
       "      <td>0.395031</td>\n",
       "      <td>0.581821</td>\n",
       "      <td>1.0</td>\n",
       "      <td>0.0</td>\n",
       "      <td>1.0</td>\n",
       "      <td>1.0</td>\n",
       "      <td>0.0</td>\n",
       "      <td>1.0</td>\n",
       "      <td>0.0</td>\n",
       "      <td>0.0</td>\n",
       "      <td>0.0</td>\n",
       "      <td>1.0</td>\n",
       "      <td>0.0</td>\n",
       "    </tr>\n",
       "    <tr>\n",
       "      <th>3</th>\n",
       "      <td>0.255444</td>\n",
       "      <td>1.445120</td>\n",
       "      <td>0.801246</td>\n",
       "      <td>0.0</td>\n",
       "      <td>0.0</td>\n",
       "      <td>0.0</td>\n",
       "      <td>1.0</td>\n",
       "      <td>0.0</td>\n",
       "      <td>1.0</td>\n",
       "      <td>0.0</td>\n",
       "      <td>1.0</td>\n",
       "      <td>0.0</td>\n",
       "      <td>0.0</td>\n",
       "      <td>1.0</td>\n",
       "    </tr>\n",
       "    <tr>\n",
       "      <th>4</th>\n",
       "      <td>1.580967</td>\n",
       "      <td>1.472918</td>\n",
       "      <td>-0.586233</td>\n",
       "      <td>0.0</td>\n",
       "      <td>1.0</td>\n",
       "      <td>0.0</td>\n",
       "      <td>1.0</td>\n",
       "      <td>0.0</td>\n",
       "      <td>0.0</td>\n",
       "      <td>1.0</td>\n",
       "      <td>0.0</td>\n",
       "      <td>0.0</td>\n",
       "      <td>1.0</td>\n",
       "      <td>0.0</td>\n",
       "    </tr>\n",
       "  </tbody>\n",
       "</table>\n",
       "</div>"
      ],
      "text/plain": [
       "         0         1         2    3    4    5    6    7    8    9    10   11  \\\n",
       "0  1.050758  1.862392  1.040788  1.0  0.0  1.0  1.0  0.0  1.0  0.0  1.0  1.0   \n",
       "1  0.785653  1.700511  0.127983  0.0  0.0  0.0  1.0  0.0  0.0  1.0  0.0  0.0   \n",
       "2  1.625151  0.395031  0.581821  1.0  0.0  1.0  1.0  0.0  1.0  0.0  0.0  0.0   \n",
       "3  0.255444  1.445120  0.801246  0.0  0.0  0.0  1.0  0.0  1.0  0.0  1.0  0.0   \n",
       "4  1.580967  1.472918 -0.586233  0.0  1.0  0.0  1.0  0.0  0.0  1.0  0.0  0.0   \n",
       "\n",
       "    12   13  \n",
       "0  0.0  0.0  \n",
       "1  1.0  0.0  \n",
       "2  1.0  0.0  \n",
       "3  0.0  1.0  \n",
       "4  1.0  0.0  "
      ]
     },
     "execution_count": 386,
     "metadata": {},
     "output_type": "execute_result"
    }
   ],
   "source": [
    "x_con = pd.concat([scaled,encoded], axis=1)\n",
    "x_con = x_con.reset_index(drop=True)\n",
    "x_con.columns = range(x_con.shape[1])\n",
    "x_con.head()"
   ]
  },
  {
   "cell_type": "code",
   "execution_count": 387,
   "id": "b8c21b2c",
   "metadata": {},
   "outputs": [
    {
     "data": {
      "text/plain": [
       "1    4860\n",
       "0    4860\n",
       "Name: stroke, dtype: int64"
      ]
     },
     "execution_count": 387,
     "metadata": {},
     "output_type": "execute_result"
    }
   ],
   "source": [
    "#using smote to upsample sate\n",
    "smote = SMOTE()\n",
    "X_sm, y_sm = smote.fit_resample(x_con, y)\n",
    "y_sm.value_counts()"
   ]
  },
  {
   "cell_type": "code",
   "execution_count": 388,
   "id": "f2b6f9cc",
   "metadata": {},
   "outputs": [],
   "source": [
    "X_train, X_test, y_train, y_test = train_test_split(X_sm, y_sm, test_size=0.3, random_state=1)"
   ]
  },
  {
   "cell_type": "code",
   "execution_count": 389,
   "id": "759b4f60",
   "metadata": {},
   "outputs": [
    {
     "data": {
      "text/html": [
       "<div>\n",
       "<style scoped>\n",
       "    .dataframe tbody tr th:only-of-type {\n",
       "        vertical-align: middle;\n",
       "    }\n",
       "\n",
       "    .dataframe tbody tr th {\n",
       "        vertical-align: top;\n",
       "    }\n",
       "\n",
       "    .dataframe thead th {\n",
       "        text-align: right;\n",
       "    }\n",
       "</style>\n",
       "<table border=\"1\" class=\"dataframe\">\n",
       "  <thead>\n",
       "    <tr style=\"text-align: right;\">\n",
       "      <th></th>\n",
       "      <th>0</th>\n",
       "      <th>1</th>\n",
       "      <th>2</th>\n",
       "      <th>3</th>\n",
       "      <th>4</th>\n",
       "      <th>5</th>\n",
       "      <th>6</th>\n",
       "      <th>7</th>\n",
       "      <th>8</th>\n",
       "      <th>9</th>\n",
       "      <th>10</th>\n",
       "      <th>11</th>\n",
       "      <th>12</th>\n",
       "      <th>13</th>\n",
       "    </tr>\n",
       "  </thead>\n",
       "  <tbody>\n",
       "    <tr>\n",
       "      <th>9016</th>\n",
       "      <td>1.479600</td>\n",
       "      <td>1.764232</td>\n",
       "      <td>0.039881</td>\n",
       "      <td>1.0</td>\n",
       "      <td>0.258839</td>\n",
       "      <td>0.0</td>\n",
       "      <td>1.0</td>\n",
       "      <td>0.0</td>\n",
       "      <td>0.0</td>\n",
       "      <td>1.0</td>\n",
       "      <td>1.0</td>\n",
       "      <td>0.0</td>\n",
       "      <td>0.258839</td>\n",
       "      <td>0.0</td>\n",
       "    </tr>\n",
       "    <tr>\n",
       "      <th>2520</th>\n",
       "      <td>-0.760790</td>\n",
       "      <td>1.686980</td>\n",
       "      <td>0.509885</td>\n",
       "      <td>1.0</td>\n",
       "      <td>0.000000</td>\n",
       "      <td>0.0</td>\n",
       "      <td>0.0</td>\n",
       "      <td>0.0</td>\n",
       "      <td>0.0</td>\n",
       "      <td>1.0</td>\n",
       "      <td>1.0</td>\n",
       "      <td>1.0</td>\n",
       "      <td>0.000000</td>\n",
       "      <td>0.0</td>\n",
       "    </tr>\n",
       "    <tr>\n",
       "      <th>3262</th>\n",
       "      <td>1.404231</td>\n",
       "      <td>-0.034044</td>\n",
       "      <td>-1.026234</td>\n",
       "      <td>0.0</td>\n",
       "      <td>1.000000</td>\n",
       "      <td>0.0</td>\n",
       "      <td>0.0</td>\n",
       "      <td>0.0</td>\n",
       "      <td>0.0</td>\n",
       "      <td>1.0</td>\n",
       "      <td>0.0</td>\n",
       "      <td>1.0</td>\n",
       "      <td>0.000000</td>\n",
       "      <td>0.0</td>\n",
       "    </tr>\n",
       "    <tr>\n",
       "      <th>2419</th>\n",
       "      <td>-0.539869</td>\n",
       "      <td>-1.770165</td>\n",
       "      <td>-0.353148</td>\n",
       "      <td>0.0</td>\n",
       "      <td>0.000000</td>\n",
       "      <td>0.0</td>\n",
       "      <td>1.0</td>\n",
       "      <td>0.0</td>\n",
       "      <td>1.0</td>\n",
       "      <td>0.0</td>\n",
       "      <td>1.0</td>\n",
       "      <td>0.0</td>\n",
       "      <td>0.000000</td>\n",
       "      <td>1.0</td>\n",
       "    </tr>\n",
       "    <tr>\n",
       "      <th>2174</th>\n",
       "      <td>0.653101</td>\n",
       "      <td>-1.126382</td>\n",
       "      <td>1.726435</td>\n",
       "      <td>1.0</td>\n",
       "      <td>0.000000</td>\n",
       "      <td>0.0</td>\n",
       "      <td>1.0</td>\n",
       "      <td>0.0</td>\n",
       "      <td>0.0</td>\n",
       "      <td>1.0</td>\n",
       "      <td>0.0</td>\n",
       "      <td>1.0</td>\n",
       "      <td>0.000000</td>\n",
       "      <td>0.0</td>\n",
       "    </tr>\n",
       "  </tbody>\n",
       "</table>\n",
       "</div>"
      ],
      "text/plain": [
       "            0         1         2    3         4    5    6    7    8    9   \\\n",
       "9016  1.479600  1.764232  0.039881  1.0  0.258839  0.0  1.0  0.0  0.0  1.0   \n",
       "2520 -0.760790  1.686980  0.509885  1.0  0.000000  0.0  0.0  0.0  0.0  1.0   \n",
       "3262  1.404231 -0.034044 -1.026234  0.0  1.000000  0.0  0.0  0.0  0.0  1.0   \n",
       "2419 -0.539869 -1.770165 -0.353148  0.0  0.000000  0.0  1.0  0.0  1.0  0.0   \n",
       "2174  0.653101 -1.126382  1.726435  1.0  0.000000  0.0  1.0  0.0  0.0  1.0   \n",
       "\n",
       "       10   11        12   13  \n",
       "9016  1.0  0.0  0.258839  0.0  \n",
       "2520  1.0  1.0  0.000000  0.0  \n",
       "3262  0.0  1.0  0.000000  0.0  \n",
       "2419  1.0  0.0  0.000000  1.0  \n",
       "2174  0.0  1.0  0.000000  0.0  "
      ]
     },
     "execution_count": 389,
     "metadata": {},
     "output_type": "execute_result"
    }
   ],
   "source": [
    "X_train.head()"
   ]
  },
  {
   "cell_type": "code",
   "execution_count": 390,
   "id": "6ceab4ad",
   "metadata": {},
   "outputs": [
    {
     "data": {
      "text/plain": [
       "9016    1\n",
       "2520    0\n",
       "3262    0\n",
       "2419    0\n",
       "2174    0\n",
       "Name: stroke, dtype: int64"
      ]
     },
     "execution_count": 390,
     "metadata": {},
     "output_type": "execute_result"
    }
   ],
   "source": [
    "y_train.head()"
   ]
  },
  {
   "cell_type": "code",
   "execution_count": 391,
   "id": "f7dfc226",
   "metadata": {},
   "outputs": [],
   "source": [
    "#Logistic Regression\n",
    "model_1 = LogisticRegression().fit(X_train, y_train)"
   ]
  },
  {
   "cell_type": "code",
   "execution_count": 392,
   "id": "7053a0e9",
   "metadata": {},
   "outputs": [
    {
     "name": "stdout",
     "output_type": "stream",
     "text": [
      "              precision    recall  f1-score   support\n",
      "\n",
      "           0       0.80      0.74      0.77      1456\n",
      "           1       0.76      0.82      0.79      1460\n",
      "\n",
      "    accuracy                           0.78      2916\n",
      "   macro avg       0.78      0.78      0.78      2916\n",
      "weighted avg       0.78      0.78      0.78      2916\n",
      "\n"
     ]
    },
    {
     "data": {
      "text/plain": [
       "array([1, 0, 0, ..., 0, 1, 0])"
      ]
     },
     "execution_count": 392,
     "metadata": {},
     "output_type": "execute_result"
    }
   ],
   "source": [
    "pred_1 = model_1.predict(X_test)\n",
    "print(classification_report(y_test, pred_1))\n",
    "pred_1"
   ]
  },
  {
   "cell_type": "code",
   "execution_count": 393,
   "id": "8dbb8455",
   "metadata": {},
   "outputs": [
    {
     "data": {
      "text/plain": [
       "<sklearn.metrics._plot.confusion_matrix.ConfusionMatrixDisplay at 0x7fbcad011c10>"
      ]
     },
     "execution_count": 393,
     "metadata": {},
     "output_type": "execute_result"
    },
    {
     "data": {
      "image/png": "[encoded data removed]",
      "text/plain": [
       "<Figure size 432x288 with 2 Axes>"
      ]
     },
     "metadata": {
      "needs_background": "light"
     },
     "output_type": "display_data"
    }
   ],
   "source": [
    "confm_1 = ConfusionMatrixDisplay(confusion_matrix(y_test,pred_1), display_labels = ['No', 'Yes']).plot()\n",
    "confm_1"
   ]
  },
  {
   "cell_type": "code",
   "execution_count": 394,
   "id": "325b0fa1",
   "metadata": {},
   "outputs": [
    {
     "data": {
      "text/plain": [
       "(1078, 378, 262, 1198)"
      ]
     },
     "execution_count": 394,
     "metadata": {},
     "output_type": "execute_result"
    }
   ],
   "source": [
    "tn_1, fp_1, fn_1, tp_1 = confusion_matrix(y_test, pred_1).ravel()\n",
    "(tn_1, fp_1, fn_1, tp_1)"
   ]
  },
  {
   "cell_type": "code",
   "execution_count": 395,
   "id": "4a7278ac",
   "metadata": {},
   "outputs": [
    {
     "name": "stdout",
     "output_type": "stream",
     "text": [
      "Logistic Regression Metrics\n",
      "Accuracy =  0.7805212620027435\n",
      "Precision =  0.7601522842639594\n",
      "Sensitivity =  0.8205479452054795\n",
      "Specificity =  0.7403846153846154\n"
     ]
    }
   ],
   "source": [
    "# Accuracy is 79%, this means the model correctly predicated the data 77.94% of the time.\n",
    "# Precision is 75%, this model is predicts positive instances 75% of the time.\n",
    "# Sensitivity(recall) is 83%, this model is sensitive to true positive 83% of the time. \n",
    "# Specificity is 73%, this model is specific to 73% of true negatives.\n",
    "\n",
    "accuracy_1 = (tp_1 + tn_1) / len(y_test)\n",
    "precision_1 = tp_1 / (tp_1 + fp_1)\n",
    "sensitivity_1 = tp_1 / (tp_1 + fn_1)\n",
    "specificity_1 = tn_1 / (fp_1 + tn_1)\n",
    "\n",
    "print('Logistic Regression Metrics')\n",
    "print('Accuracy = ', accuracy_1)\n",
    "print('Precision = ', precision_1)\n",
    "print('Sensitivity = ', sensitivity_1)\n",
    "print('Specificity = ', specificity_1)"
   ]
  },
  {
   "cell_type": "code",
   "execution_count": 396,
   "id": "3539f13b",
   "metadata": {},
   "outputs": [
    {
     "data": {
      "text/plain": [
       "array([0.66107978, 0.28658221, 0.4524973 , ..., 0.01991318, 0.53992251,\n",
       "       0.05915568])"
      ]
     },
     "execution_count": 396,
     "metadata": {},
     "output_type": "execute_result"
    }
   ],
   "source": [
    "pred_1_probs = model_1.predict_proba(X_test)[:,1]\n",
    "pred_1_probs"
   ]
  },
  {
   "cell_type": "code",
   "execution_count": 397,
   "id": "4fc0c489",
   "metadata": {},
   "outputs": [],
   "source": [
    "fpr1, tpr1, thresholds1 = roc_curve(y_test, pred_1_probs, pos_label= 1)"
   ]
  },
  {
   "cell_type": "code",
   "execution_count": 398,
   "id": "35ae671e",
   "metadata": {},
   "outputs": [
    {
     "data": {
      "text/plain": [
       "0.8552249548396808"
      ]
     },
     "execution_count": 398,
     "metadata": {},
     "output_type": "execute_result"
    }
   ],
   "source": [
    "#Logistic regression model is classifying instances correctly 85% of the time.\n",
    "roc_auc_1 = auc(fpr1, tpr1)\n",
    "roc_auc_1"
   ]
  },
  {
   "cell_type": "code",
   "execution_count": 399,
   "id": "296257b9",
   "metadata": {},
   "outputs": [],
   "source": [
    "#KNN\n",
    "model_2 =KNeighborsClassifier(n_neighbors=5).fit(X_train, y_train)"
   ]
  },
  {
   "cell_type": "code",
   "execution_count": 400,
   "id": "0843f8a3",
   "metadata": {},
   "outputs": [
    {
     "name": "stdout",
     "output_type": "stream",
     "text": [
      "              precision    recall  f1-score   support\n",
      "\n",
      "           0       1.00      0.82      0.90      1456\n",
      "           1       0.85      1.00      0.92      1460\n",
      "\n",
      "    accuracy                           0.91      2916\n",
      "   macro avg       0.92      0.91      0.91      2916\n",
      "weighted avg       0.92      0.91      0.91      2916\n",
      "\n"
     ]
    }
   ],
   "source": [
    "pred_2 = model_2.predict(X_test)\n",
    "print(classification_report(y_test, pred_2))"
   ]
  },
  {
   "cell_type": "code",
   "execution_count": 401,
   "id": "9cc9d2ba",
   "metadata": {},
   "outputs": [
    {
     "data": {
      "text/plain": [
       "<sklearn.metrics._plot.confusion_matrix.ConfusionMatrixDisplay at 0x7fbcb7e84fd0>"
      ]
     },
     "execution_count": 401,
     "metadata": {},
     "output_type": "execute_result"
    },
    {
     "data": {
      "image/png": "[encoded data removed]",
      "text/plain": [
       "<Figure size 432x288 with 2 Axes>"
      ]
     },
     "metadata": {
      "needs_background": "light"
     },
     "output_type": "display_data"
    }
   ],
   "source": [
    "confm_2 = ConfusionMatrixDisplay(confusion_matrix(y_test,pred_2), display_labels = ['No', 'Yes']).plot()\n",
    "confm_2"
   ]
  },
  {
   "cell_type": "code",
   "execution_count": 402,
   "id": "7d123e8f",
   "metadata": {},
   "outputs": [
    {
     "data": {
      "text/plain": [
       "(1195, 261, 5, 1455)"
      ]
     },
     "execution_count": 402,
     "metadata": {},
     "output_type": "execute_result"
    }
   ],
   "source": [
    "tn_2, fp_2, fn_2, tp_2 = confusion_matrix(y_test, pred_2).ravel()\n",
    "(tn_2, fp_2, fn_2, tp_2)"
   ]
  },
  {
   "cell_type": "code",
   "execution_count": 403,
   "id": "818fca68",
   "metadata": {},
   "outputs": [
    {
     "name": "stdout",
     "output_type": "stream",
     "text": [
      "KNN Metrics - K=5\n",
      "Accuracy =  0.9087791495198903\n",
      "Precision =  0.8479020979020979\n",
      "Sensitivity =  0.9965753424657534\n",
      "Specificity =  0.8207417582417582\n"
     ]
    }
   ],
   "source": [
    "accuracy_2 = (tp_2 + tn_2) / len(y_test)\n",
    "precision_2 = tp_2 / (tp_2 + fp_2)\n",
    "sensitivity_2 = tp_2 / (tp_2 + fn_2)\n",
    "specificity_2 = tn_2 / (fp_2 + tn_2)\n",
    "\n",
    "print('KNN Metrics - K=5')\n",
    "print('Accuracy = ', accuracy_2)\n",
    "print('Precision = ', precision_2)\n",
    "print('Sensitivity = ', sensitivity_2)\n",
    "print('Specificity = ', specificity_2)\n",
    "\n",
    "#I have the feeling this model is overfitted. I will look for a range of K."
   ]
  },
  {
   "cell_type": "code",
   "execution_count": 404,
   "id": "a2bd99ca",
   "metadata": {},
   "outputs": [
    {
     "data": {
      "text/plain": [
       "array([0.8, 0. , 0. , ..., 0. , 1. , 0.2])"
      ]
     },
     "execution_count": 404,
     "metadata": {},
     "output_type": "execute_result"
    }
   ],
   "source": [
    "pred_2_probs = model_2.predict_proba(X_test)[:,1]\n",
    "pred_2_probs"
   ]
  },
  {
   "cell_type": "code",
   "execution_count": 405,
   "id": "1d5516b3",
   "metadata": {},
   "outputs": [],
   "source": [
    "fpr2, tpr2, thresholds2 = roc_curve(y_test, pred_2_probs, pos_label= 1)"
   ]
  },
  {
   "cell_type": "code",
   "execution_count": 406,
   "id": "df46930a",
   "metadata": {},
   "outputs": [
    {
     "data": {
      "text/plain": [
       "0.9668984269155502"
      ]
     },
     "execution_count": 406,
     "metadata": {},
     "output_type": "execute_result"
    }
   ],
   "source": [
    "roc_auc_2 = auc(fpr2, tpr2)\n",
    "roc_auc_2"
   ]
  },
  {
   "cell_type": "code",
   "execution_count": 407,
   "id": "5597e5fc",
   "metadata": {},
   "outputs": [],
   "source": [
    "k_values = list(range(10, 100, 10))\n",
    "results = {}\n",
    "for k in k_values:\n",
    "    knn = KNeighborsClassifier(n_neighbors=k)\n",
    "    scores = cross_val_score(knn, X_sm, y_sm, cv = None, scoring = 'accuracy')\n",
    "    results[k] = scores.mean()\n"
   ]
  },
  {
   "cell_type": "code",
   "execution_count": 408,
   "id": "faa4c437",
   "metadata": {},
   "outputs": [],
   "source": [
    "best_k = max(results, key=results.get)"
   ]
  },
  {
   "cell_type": "code",
   "execution_count": 409,
   "id": "b7678833",
   "metadata": {},
   "outputs": [
    {
     "name": "stdout",
     "output_type": "stream",
     "text": [
      "Best k: 10\n",
      "Average accuracy: 0.8918724279835392\n"
     ]
    }
   ],
   "source": [
    "print(\"Best k:\", best_k)\n",
    "print('Average accuracy:', results[best_k])"
   ]
  },
  {
   "cell_type": "code",
   "execution_count": 410,
   "id": "f6383b4b",
   "metadata": {},
   "outputs": [],
   "source": [
    "model_3 =KNeighborsClassifier(n_neighbors=10).fit(X_train, y_train)"
   ]
  },
  {
   "cell_type": "code",
   "execution_count": 411,
   "id": "3f5935ea",
   "metadata": {},
   "outputs": [
    {
     "name": "stdout",
     "output_type": "stream",
     "text": [
      "              precision    recall  f1-score   support\n",
      "\n",
      "           0       1.00      0.78      0.88      1456\n",
      "           1       0.82      1.00      0.90      1460\n",
      "\n",
      "    accuracy                           0.89      2916\n",
      "   macro avg       0.91      0.89      0.89      2916\n",
      "weighted avg       0.91      0.89      0.89      2916\n",
      "\n"
     ]
    }
   ],
   "source": [
    "pred_3 = model_3.predict(X_test)\n",
    "print(classification_report(y_test, pred_3))"
   ]
  },
  {
   "cell_type": "code",
   "execution_count": 412,
   "id": "f051c18a",
   "metadata": {},
   "outputs": [
    {
     "data": {
      "text/plain": [
       "<sklearn.metrics._plot.confusion_matrix.ConfusionMatrixDisplay at 0x7fbcb5722220>"
      ]
     },
     "execution_count": 412,
     "metadata": {},
     "output_type": "execute_result"
    },
    {
     "data": {
      "image/png": "[encoded data removed]",
      "text/plain": [
       "<Figure size 432x288 with 2 Axes>"
      ]
     },
     "metadata": {
      "needs_background": "light"
     },
     "output_type": "display_data"
    }
   ],
   "source": [
    "confm_3 = ConfusionMatrixDisplay(confusion_matrix(y_test,pred_3), display_labels = ['No', 'Yes']).plot()\n",
    "confm_3"
   ]
  },
  {
   "cell_type": "code",
   "execution_count": 413,
   "id": "03c63aa1",
   "metadata": {},
   "outputs": [
    {
     "data": {
      "text/plain": [
       "(1138, 318, 5, 1455)"
      ]
     },
     "execution_count": 413,
     "metadata": {},
     "output_type": "execute_result"
    }
   ],
   "source": [
    "tn_3, fp_3, fn_3, tp_3 = confusion_matrix(y_test, pred_3).ravel() \n",
    "(tn_3, fp_3, fn_3, tp_3)"
   ]
  },
  {
   "cell_type": "code",
   "execution_count": 414,
   "id": "ef0349ef",
   "metadata": {},
   "outputs": [
    {
     "name": "stdout",
     "output_type": "stream",
     "text": [
      "KNN Metrics - K=10\n",
      "Accuracy =  0.8892318244170097\n",
      "Precision =  0.8206429780033841\n",
      "Sensitivity =  0.9965753424657534\n",
      "Specificity =  0.7815934065934066\n"
     ]
    }
   ],
   "source": [
    "accuracy_3 = (tp_3 + tn_3) / len(y_test)\n",
    "precision_3 = tp_3 / (tp_3 + fp_3)\n",
    "sensitivity_3 = tp_3 / (tp_3 + fn_3)\n",
    "specificity_3 = tn_3 / (fp_3 + tn_3)\n",
    "\n",
    "print('KNN Metrics - K=10')\n",
    "print('Accuracy = ', accuracy_3)\n",
    "print('Precision = ', precision_3)\n",
    "print('Sensitivity = ', sensitivity_3)\n",
    "print('Specificity = ', specificity_3)"
   ]
  },
  {
   "cell_type": "code",
   "execution_count": 415,
   "id": "925cd212",
   "metadata": {},
   "outputs": [
    {
     "data": {
      "text/plain": [
       "array([0.9, 0. , 0. , ..., 0. , 1. , 0.3])"
      ]
     },
     "execution_count": 415,
     "metadata": {},
     "output_type": "execute_result"
    }
   ],
   "source": [
    "pred_3_probs = model_3.predict_proba(X_test)[:,1]\n",
    "pred_3_probs"
   ]
  },
  {
   "cell_type": "code",
   "execution_count": 416,
   "id": "72c65a51",
   "metadata": {},
   "outputs": [],
   "source": [
    "fpr3, tpr3, thresholds3 = roc_curve(y_test, pred_3_probs, pos_label= 1)"
   ]
  },
  {
   "cell_type": "code",
   "execution_count": 417,
   "id": "46fc9a44",
   "metadata": {},
   "outputs": [
    {
     "data": {
      "text/plain": [
       "0.9654874021526418"
      ]
     },
     "execution_count": 417,
     "metadata": {},
     "output_type": "execute_result"
    }
   ],
   "source": [
    "roc_auc_3 = auc(fpr3, tpr3)\n",
    "roc_auc_3"
   ]
  },
  {
   "cell_type": "code",
   "execution_count": 418,
   "id": "1d52f81d",
   "metadata": {},
   "outputs": [
    {
     "name": "stdout",
     "output_type": "stream",
     "text": [
      "              precision    recall  f1-score   support\n",
      "\n",
      "           0       0.98      0.95      0.97      1456\n",
      "           1       0.96      0.98      0.97      1460\n",
      "\n",
      "    accuracy                           0.97      2916\n",
      "   macro avg       0.97      0.97      0.97      2916\n",
      "weighted avg       0.97      0.97      0.97      2916\n",
      "\n"
     ]
    },
    {
     "data": {
      "text/plain": [
       "<sklearn.metrics._plot.confusion_matrix.ConfusionMatrixDisplay at 0x7fbcb5a5ac70>"
      ]
     },
     "execution_count": 418,
     "metadata": {},
     "output_type": "execute_result"
    },
    {
     "data": {
      "image/png": "[encoded data removed]",
      "text/plain": [
       "<Figure size 432x288 with 2 Axes>"
      ]
     },
     "metadata": {
      "needs_background": "light"
     },
     "output_type": "display_data"
    }
   ],
   "source": [
    "#Random Forest\n",
    "model_4 =RandomForestClassifier().fit(X_train, y_train)\n",
    "pred_4 = model_4.predict(X_test)\n",
    "print(classification_report(y_test, pred_4))\n",
    "confm_4 = ConfusionMatrixDisplay(confusion_matrix(y_test,pred_4), display_labels = ['No', 'Yes']).plot()\n",
    "confm_4\n"
   ]
  },
  {
   "cell_type": "code",
   "execution_count": 419,
   "id": "eb363368",
   "metadata": {},
   "outputs": [
    {
     "data": {
      "text/plain": [
       "(1389, 67, 32, 1428)"
      ]
     },
     "execution_count": 419,
     "metadata": {},
     "output_type": "execute_result"
    }
   ],
   "source": [
    "tn_4, fp_4, fn_4, tp_4 = confusion_matrix(y_test, pred_4).ravel() \n",
    "(tn_4, fp_4, fn_4, tp_4)"
   ]
  },
  {
   "cell_type": "code",
   "execution_count": 420,
   "id": "537da4bd",
   "metadata": {},
   "outputs": [
    {
     "name": "stdout",
     "output_type": "stream",
     "text": [
      "Random Forest\n",
      "Accuracy =  0.9660493827160493\n",
      "Precision =  0.9551839464882943\n",
      "Sensitivity =  0.9780821917808219\n",
      "Specificity =  0.9539835164835165\n"
     ]
    }
   ],
   "source": [
    "accuracy_4 = (tp_4 + tn_4) / len(y_test)\n",
    "precision_4 = tp_4 / (tp_4 + fp_4)\n",
    "sensitivity_4 = tp_4 / (tp_4 + fn_4)\n",
    "specificity_4 = tn_4 / (fp_4 + tn_4)\n",
    "\n",
    "print('Random Forest')\n",
    "print('Accuracy = ', accuracy_4)\n",
    "print('Precision = ', precision_4)\n",
    "print('Sensitivity = ', sensitivity_4)\n",
    "print('Specificity = ', specificity_4)"
   ]
  },
  {
   "cell_type": "code",
   "execution_count": 421,
   "id": "47c35ac4",
   "metadata": {},
   "outputs": [
    {
     "data": {
      "text/plain": [
       "array([0.35, 0.03, 0.05, ..., 0.  , 0.96, 0.02])"
      ]
     },
     "execution_count": 421,
     "metadata": {},
     "output_type": "execute_result"
    }
   ],
   "source": [
    "pred_4_probs = model_4.predict_proba(X_test)[:,1]\n",
    "pred_4_probs"
   ]
  },
  {
   "cell_type": "code",
   "execution_count": 422,
   "id": "ba268843",
   "metadata": {},
   "outputs": [],
   "source": [
    "fpr4, tpr4, thresholds4 = roc_curve(y_test, pred_4_probs, pos_label= 1)"
   ]
  },
  {
   "cell_type": "code",
   "execution_count": 423,
   "id": "d1a15f23",
   "metadata": {},
   "outputs": [
    {
     "data": {
      "text/plain": [
       "0.9946151023633901"
      ]
     },
     "execution_count": 423,
     "metadata": {},
     "output_type": "execute_result"
    }
   ],
   "source": [
    "roc_auc_4 = auc(fpr4, tpr4)\n",
    "roc_auc_4"
   ]
  },
  {
   "cell_type": "code",
   "execution_count": 424,
   "id": "d8862491",
   "metadata": {},
   "outputs": [],
   "source": [
    "# I will like to tune the model more towards sensitivity accuracy. I will use Gradient boosting algorithms.\n",
    "#XGBoost\n",
    "model_5 = xgb.XGBClassifier()\n",
    "model_5.fit(X_train, y_train)\n",
    "pred_5 = model_5.predict(X_test)\n"
   ]
  },
  {
   "cell_type": "code",
   "execution_count": 425,
   "id": "917cc0c5",
   "metadata": {},
   "outputs": [
    {
     "name": "stdout",
     "output_type": "stream",
     "text": [
      "              precision    recall  f1-score   support\n",
      "\n",
      "           0       0.96      0.95      0.96      1456\n",
      "           1       0.95      0.96      0.96      1460\n",
      "\n",
      "    accuracy                           0.96      2916\n",
      "   macro avg       0.96      0.96      0.96      2916\n",
      "weighted avg       0.96      0.96      0.96      2916\n",
      "\n"
     ]
    }
   ],
   "source": [
    "accuracy = accuracy_score(y_test, pred_5)\n",
    "print(classification_report(y_test, pred_5))"
   ]
  },
  {
   "cell_type": "code",
   "execution_count": 426,
   "id": "97d1a302",
   "metadata": {},
   "outputs": [
    {
     "data": {
      "text/plain": [
       "<sklearn.metrics._plot.confusion_matrix.ConfusionMatrixDisplay at 0x7fbcb6007bb0>"
      ]
     },
     "execution_count": 426,
     "metadata": {},
     "output_type": "execute_result"
    },
    {
     "data": {
      "image/png": "[encoded data removed]",
      "text/plain": [
       "<Figure size 432x288 with 2 Axes>"
      ]
     },
     "metadata": {
      "needs_background": "light"
     },
     "output_type": "display_data"
    }
   ],
   "source": [
    "confm_5 = ConfusionMatrixDisplay(confusion_matrix(y_test,pred_5), display_labels = ['No', 'Yes']).plot()\n",
    "confm_5\n",
    "#This model may be overfitting for strokes. Hyperparameters need to be the next step"
   ]
  },
  {
   "cell_type": "code",
   "execution_count": 427,
   "id": "922ba562",
   "metadata": {},
   "outputs": [
    {
     "data": {
      "text/plain": [
       "(1389, 67, 60, 1400)"
      ]
     },
     "execution_count": 427,
     "metadata": {},
     "output_type": "execute_result"
    }
   ],
   "source": [
    "tn_5, fp_5, fn_5, tp_5 = confusion_matrix(y_test, pred_5).ravel() \n",
    "(tn_5, fp_5, fn_5, tp_5)"
   ]
  },
  {
   "cell_type": "code",
   "execution_count": 428,
   "id": "0ca1b2cf",
   "metadata": {},
   "outputs": [
    {
     "name": "stdout",
     "output_type": "stream",
     "text": [
      "XGboost\n",
      "Accuracy =  0.9564471879286695\n",
      "Precision =  0.9543285616905249\n",
      "Sensitivity =  0.958904109589041\n",
      "Specificity =  0.9539835164835165\n"
     ]
    }
   ],
   "source": [
    "accuracy_5 = (tp_5 + tn_5) / len(y_test)\n",
    "precision_5 = tp_5 / (tp_5 + fp_5)\n",
    "sensitivity_5 = tp_5 / (tp_5 + fn_5)\n",
    "specificity_5 = tn_5 / (fp_5 + tn_5)\n",
    "\n",
    "print('XGboost')\n",
    "print('Accuracy = ', accuracy_5)\n",
    "print('Precision = ', precision_5)\n",
    "print('Sensitivity = ', sensitivity_5)\n",
    "print('Specificity = ', specificity_5)"
   ]
  },
  {
   "cell_type": "code",
   "execution_count": 429,
   "id": "81700b8d",
   "metadata": {},
   "outputs": [
    {
     "data": {
      "text/plain": [
       "array([0.12125173, 0.00634639, 0.0060658 , ..., 0.00212878, 0.9978357 ,\n",
       "       0.00262867], dtype=float32)"
      ]
     },
     "execution_count": 429,
     "metadata": {},
     "output_type": "execute_result"
    }
   ],
   "source": [
    "pred_5_probs = model_5.predict_proba(X_test)[:,1]\n",
    "pred_5_probs"
   ]
  },
  {
   "cell_type": "code",
   "execution_count": 430,
   "id": "460182f0",
   "metadata": {},
   "outputs": [],
   "source": [
    "fpr5, tpr5, thresholds5 = roc_curve(y_test, pred_5_probs, pos_label= 1)"
   ]
  },
  {
   "cell_type": "code",
   "execution_count": 431,
   "id": "06d6f1e2",
   "metadata": {},
   "outputs": [
    {
     "data": {
      "text/plain": [
       "0.9926002935420744"
      ]
     },
     "execution_count": 431,
     "metadata": {},
     "output_type": "execute_result"
    }
   ],
   "source": [
    "roc_auc_5 = auc(fpr5, tpr5)\n",
    "roc_auc_5"
   ]
  },
  {
   "cell_type": "code",
   "execution_count": 432,
   "id": "ee08f4cb",
   "metadata": {},
   "outputs": [],
   "source": [
    "#With some Hyperparameters\n",
    "model_6 = xgb.XGBClassifier(learning_rate=0.01,      \n",
    "    max_depth=4,              \n",
    "    min_child_weight=5,       \n",
    "    subsample=0.8,            \n",
    "    n_estimators=100, alpha=0.1, gamma=0.0, objective='binary:logistic'  )"
   ]
  },
  {
   "cell_type": "code",
   "execution_count": 433,
   "id": "c98066c4",
   "metadata": {},
   "outputs": [
    {
     "name": "stdout",
     "output_type": "stream",
     "text": [
      "              precision    recall  f1-score   support\n",
      "\n",
      "           0       0.89      0.77      0.82      1456\n",
      "           1       0.80      0.90      0.85      1460\n",
      "\n",
      "    accuracy                           0.84      2916\n",
      "   macro avg       0.84      0.84      0.83      2916\n",
      "weighted avg       0.84      0.84      0.83      2916\n",
      "\n"
     ]
    }
   ],
   "source": [
    "model_6.fit(X_train, y_train)\n",
    "pred_6 = model_6.predict(X_test)\n",
    "accuracy = accuracy_score(y_test, pred_6)\n",
    "print(classification_report(y_test, pred_6))"
   ]
  },
  {
   "cell_type": "code",
   "execution_count": 434,
   "id": "efd67ba2",
   "metadata": {},
   "outputs": [
    {
     "data": {
      "text/plain": [
       "<sklearn.metrics._plot.confusion_matrix.ConfusionMatrixDisplay at 0x7fbcb5f91d60>"
      ]
     },
     "execution_count": 434,
     "metadata": {},
     "output_type": "execute_result"
    },
    {
     "data": {
      "image/png": "[encoded data removed]",
      "text/plain": [
       "<Figure size 432x288 with 2 Axes>"
      ]
     },
     "metadata": {
      "needs_background": "light"
     },
     "output_type": "display_data"
    }
   ],
   "source": [
    "confm_6 = ConfusionMatrixDisplay(confusion_matrix(y_test,pred_6), display_labels = ['No', 'Yes']).plot()\n",
    "confm_6"
   ]
  },
  {
   "cell_type": "code",
   "execution_count": 435,
   "id": "cef3ddac",
   "metadata": {},
   "outputs": [
    {
     "data": {
      "text/plain": [
       "(1118, 338, 141, 1319)"
      ]
     },
     "execution_count": 435,
     "metadata": {},
     "output_type": "execute_result"
    }
   ],
   "source": [
    "tn_6, fp_6, fn_6, tp_6 = confusion_matrix(y_test, pred_6).ravel() \n",
    "(tn_6, fp_6, fn_6, tp_6)"
   ]
  },
  {
   "cell_type": "code",
   "execution_count": 436,
   "id": "3efb167b",
   "metadata": {},
   "outputs": [
    {
     "name": "stdout",
     "output_type": "stream",
     "text": [
      "XGboost Hyperparameters\n",
      "Accuracy =  0.8357338820301783\n",
      "Precision =  0.796016898008449\n",
      "Sensitivity =  0.9034246575342466\n",
      "Specificity =  0.7678571428571429\n"
     ]
    }
   ],
   "source": [
    "accuracy_6 = (tp_6 + tn_6) / len(y_test)\n",
    "precision_6 = tp_6 / (tp_6 + fp_6)\n",
    "sensitivity_6 = tp_6 / (tp_6 + fn_6)\n",
    "specificity_6 = tn_6 / (fp_6 + tn_6)\n",
    "\n",
    "print('XGboost Hyperparameters')\n",
    "print('Accuracy = ', accuracy_6)\n",
    "print('Precision = ', precision_6)\n",
    "print('Sensitivity = ', sensitivity_6)\n",
    "print('Specificity = ', specificity_6)"
   ]
  },
  {
   "cell_type": "code",
   "execution_count": 437,
   "id": "8c1abd6e",
   "metadata": {},
   "outputs": [
    {
     "data": {
      "text/plain": [
       "array([0.6471187 , 0.34453028, 0.46439528, ..., 0.25683343, 0.599757  ,\n",
       "       0.25931004], dtype=float32)"
      ]
     },
     "execution_count": 437,
     "metadata": {},
     "output_type": "execute_result"
    }
   ],
   "source": [
    "pred_6_probs = model_6.predict_proba(X_test)[:,1]\n",
    "pred_6_probs"
   ]
  },
  {
   "cell_type": "code",
   "execution_count": 438,
   "id": "1b0884e1",
   "metadata": {},
   "outputs": [],
   "source": [
    "fpr6, tpr6, thresholds6 = roc_curve(y_test, pred_6_probs, pos_label= 1)"
   ]
  },
  {
   "cell_type": "code",
   "execution_count": 439,
   "id": "826b89de",
   "metadata": {},
   "outputs": [
    {
     "data": {
      "text/plain": [
       "0.9926002935420744"
      ]
     },
     "execution_count": 439,
     "metadata": {},
     "output_type": "execute_result"
    }
   ],
   "source": [
    "roc_auc_5 = auc(fpr5, tpr5)\n",
    "roc_auc_5"
   ]
  }
 ],
 "metadata": {
  "kernelspec": {
   "display_name": "Python 3 (ipykernel)",
   "language": "python",
   "name": "python3"
  },
  "language_info": {
   "codemirror_mode": {
    "name": "ipython",
    "version": 3
   },
   "file_extension": ".py",
   "mimetype": "text/x-python",
   "name": "python",
   "nbconvert_exporter": "python",
   "pygments_lexer": "ipython3",
   "version": "3.9.12"
  }
 },
 "nbformat": 4,
 "nbformat_minor": 5
}
