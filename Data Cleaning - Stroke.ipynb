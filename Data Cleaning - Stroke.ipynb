{
 "cells": [
  {
   "cell_type": "code",
   "execution_count": 1403,
   "id": "2b52c02c",
   "metadata": {},
   "outputs": [],
   "source": [
    "import pandas as pd\n",
    "import numpy as np\n",
    "import seaborn as sns\n",
    "import matplotlib.pyplot as plt\n",
    "import warnings\n",
    "from scipy import stats\n",
    "\n",
    "warnings.filterwarnings('ignore')"
   ]
  },
  {
   "cell_type": "code",
   "execution_count": 1404,
   "id": "3df8666e",
   "metadata": {},
   "outputs": [],
   "source": [
    "df = pd.read_csv('/Users/sarahrestrepo/Desktop/healthcare-dataset-stroke-data.csv')"
   ]
  },
  {
   "cell_type": "code",
   "execution_count": 1405,
   "id": "88a4444f",
   "metadata": {},
   "outputs": [
    {
     "data": {
      "text/plain": [
       "(5110, 12)"
      ]
     },
     "execution_count": 1405,
     "metadata": {},
     "output_type": "execute_result"
    }
   ],
   "source": [
    "df.shape"
   ]
  },
  {
   "cell_type": "code",
   "execution_count": 1406,
   "id": "ef689fdd",
   "metadata": {},
   "outputs": [
    {
     "data": {
      "text/html": [
       "<div>\n",
       "<style scoped>\n",
       "    .dataframe tbody tr th:only-of-type {\n",
       "        vertical-align: middle;\n",
       "    }\n",
       "\n",
       "    .dataframe tbody tr th {\n",
       "        vertical-align: top;\n",
       "    }\n",
       "\n",
       "    .dataframe thead th {\n",
       "        text-align: right;\n",
       "    }\n",
       "</style>\n",
       "<table border=\"1\" class=\"dataframe\">\n",
       "  <thead>\n",
       "    <tr style=\"text-align: right;\">\n",
       "      <th></th>\n",
       "      <th>id</th>\n",
       "      <th>gender</th>\n",
       "      <th>age</th>\n",
       "      <th>hypertension</th>\n",
       "      <th>heart_disease</th>\n",
       "      <th>ever_married</th>\n",
       "      <th>work_type</th>\n",
       "      <th>Residence_type</th>\n",
       "      <th>avg_glucose_level</th>\n",
       "      <th>bmi</th>\n",
       "      <th>smoking_status</th>\n",
       "      <th>stroke</th>\n",
       "    </tr>\n",
       "  </thead>\n",
       "  <tbody>\n",
       "    <tr>\n",
       "      <th>0</th>\n",
       "      <td>9046</td>\n",
       "      <td>Male</td>\n",
       "      <td>67.0</td>\n",
       "      <td>0</td>\n",
       "      <td>1</td>\n",
       "      <td>Yes</td>\n",
       "      <td>Private</td>\n",
       "      <td>Urban</td>\n",
       "      <td>228.69</td>\n",
       "      <td>36.6</td>\n",
       "      <td>formerly smoked</td>\n",
       "      <td>1</td>\n",
       "    </tr>\n",
       "    <tr>\n",
       "      <th>1</th>\n",
       "      <td>51676</td>\n",
       "      <td>Female</td>\n",
       "      <td>61.0</td>\n",
       "      <td>0</td>\n",
       "      <td>0</td>\n",
       "      <td>Yes</td>\n",
       "      <td>Self-employed</td>\n",
       "      <td>Rural</td>\n",
       "      <td>202.21</td>\n",
       "      <td>NaN</td>\n",
       "      <td>never smoked</td>\n",
       "      <td>1</td>\n",
       "    </tr>\n",
       "    <tr>\n",
       "      <th>2</th>\n",
       "      <td>31112</td>\n",
       "      <td>Male</td>\n",
       "      <td>80.0</td>\n",
       "      <td>0</td>\n",
       "      <td>1</td>\n",
       "      <td>Yes</td>\n",
       "      <td>Private</td>\n",
       "      <td>Rural</td>\n",
       "      <td>105.92</td>\n",
       "      <td>32.5</td>\n",
       "      <td>never smoked</td>\n",
       "      <td>1</td>\n",
       "    </tr>\n",
       "    <tr>\n",
       "      <th>3</th>\n",
       "      <td>60182</td>\n",
       "      <td>Female</td>\n",
       "      <td>49.0</td>\n",
       "      <td>0</td>\n",
       "      <td>0</td>\n",
       "      <td>Yes</td>\n",
       "      <td>Private</td>\n",
       "      <td>Urban</td>\n",
       "      <td>171.23</td>\n",
       "      <td>34.4</td>\n",
       "      <td>smokes</td>\n",
       "      <td>1</td>\n",
       "    </tr>\n",
       "    <tr>\n",
       "      <th>4</th>\n",
       "      <td>1665</td>\n",
       "      <td>Female</td>\n",
       "      <td>79.0</td>\n",
       "      <td>1</td>\n",
       "      <td>0</td>\n",
       "      <td>Yes</td>\n",
       "      <td>Self-employed</td>\n",
       "      <td>Rural</td>\n",
       "      <td>174.12</td>\n",
       "      <td>24.0</td>\n",
       "      <td>never smoked</td>\n",
       "      <td>1</td>\n",
       "    </tr>\n",
       "  </tbody>\n",
       "</table>\n",
       "</div>"
      ],
      "text/plain": [
       "      id  gender   age  hypertension  heart_disease ever_married  \\\n",
       "0   9046    Male  67.0             0              1          Yes   \n",
       "1  51676  Female  61.0             0              0          Yes   \n",
       "2  31112    Male  80.0             0              1          Yes   \n",
       "3  60182  Female  49.0             0              0          Yes   \n",
       "4   1665  Female  79.0             1              0          Yes   \n",
       "\n",
       "       work_type Residence_type  avg_glucose_level   bmi   smoking_status  \\\n",
       "0        Private          Urban             228.69  36.6  formerly smoked   \n",
       "1  Self-employed          Rural             202.21   NaN     never smoked   \n",
       "2        Private          Rural             105.92  32.5     never smoked   \n",
       "3        Private          Urban             171.23  34.4           smokes   \n",
       "4  Self-employed          Rural             174.12  24.0     never smoked   \n",
       "\n",
       "   stroke  \n",
       "0       1  \n",
       "1       1  \n",
       "2       1  \n",
       "3       1  \n",
       "4       1  "
      ]
     },
     "execution_count": 1406,
     "metadata": {},
     "output_type": "execute_result"
    }
   ],
   "source": [
    "df.head()"
   ]
  },
  {
   "cell_type": "code",
   "execution_count": 1407,
   "id": "0030a6f9",
   "metadata": {},
   "outputs": [],
   "source": [
    "#Drop unneeded columns and standardize columns\n",
    "#Drop potential duplicates, reset index\n",
    "#Converting \"age\" column from float to integer\n",
    "#Dealing with nulls\n",
    "def cleaning_df_transforms(df):\n",
    "    df.drop(['id'], axis=1, inplace=True)\n",
    "    df.columns = df.columns =df.columns.str.lower()\n",
    "    df['age'] = df['age'].astype(int)\n",
    "    df.drop_duplicates().reset_index(drop=True)\n",
    "    for col_name in df.columns:\n",
    "        nulls = df[col_name].isna().sum()\n",
    "        if nulls > 0 :\n",
    "            if df[col_name].dtypes =='O':\n",
    "                df[col_name] = df[col_name].fillna(df[col_name].mode().values[0])\n",
    "            else:\n",
    "                df[col_name] = df[col_name].fillna( np.mean(df[col_name]))\n",
    "    return df"
   ]
  },
  {
   "cell_type": "code",
   "execution_count": 1408,
   "id": "c9281646",
   "metadata": {},
   "outputs": [],
   "source": [
    "df_clean = cleaning_df_transforms(df)\n",
    "df_clean = pd.DataFrame(df)"
   ]
  },
  {
   "cell_type": "code",
   "execution_count": 1409,
   "id": "8f6ad01e",
   "metadata": {},
   "outputs": [
    {
     "data": {
      "text/html": [
       "<div>\n",
       "<style scoped>\n",
       "    .dataframe tbody tr th:only-of-type {\n",
       "        vertical-align: middle;\n",
       "    }\n",
       "\n",
       "    .dataframe tbody tr th {\n",
       "        vertical-align: top;\n",
       "    }\n",
       "\n",
       "    .dataframe thead th {\n",
       "        text-align: right;\n",
       "    }\n",
       "</style>\n",
       "<table border=\"1\" class=\"dataframe\">\n",
       "  <thead>\n",
       "    <tr style=\"text-align: right;\">\n",
       "      <th></th>\n",
       "      <th>gender</th>\n",
       "      <th>age</th>\n",
       "      <th>hypertension</th>\n",
       "      <th>heart_disease</th>\n",
       "      <th>ever_married</th>\n",
       "      <th>work_type</th>\n",
       "      <th>residence_type</th>\n",
       "      <th>avg_glucose_level</th>\n",
       "      <th>bmi</th>\n",
       "      <th>smoking_status</th>\n",
       "      <th>stroke</th>\n",
       "    </tr>\n",
       "  </thead>\n",
       "  <tbody>\n",
       "    <tr>\n",
       "      <th>0</th>\n",
       "      <td>Male</td>\n",
       "      <td>67</td>\n",
       "      <td>0</td>\n",
       "      <td>1</td>\n",
       "      <td>Yes</td>\n",
       "      <td>Private</td>\n",
       "      <td>Urban</td>\n",
       "      <td>228.69</td>\n",
       "      <td>36.600000</td>\n",
       "      <td>formerly smoked</td>\n",
       "      <td>1</td>\n",
       "    </tr>\n",
       "    <tr>\n",
       "      <th>1</th>\n",
       "      <td>Female</td>\n",
       "      <td>61</td>\n",
       "      <td>0</td>\n",
       "      <td>0</td>\n",
       "      <td>Yes</td>\n",
       "      <td>Self-employed</td>\n",
       "      <td>Rural</td>\n",
       "      <td>202.21</td>\n",
       "      <td>28.893237</td>\n",
       "      <td>never smoked</td>\n",
       "      <td>1</td>\n",
       "    </tr>\n",
       "    <tr>\n",
       "      <th>2</th>\n",
       "      <td>Male</td>\n",
       "      <td>80</td>\n",
       "      <td>0</td>\n",
       "      <td>1</td>\n",
       "      <td>Yes</td>\n",
       "      <td>Private</td>\n",
       "      <td>Rural</td>\n",
       "      <td>105.92</td>\n",
       "      <td>32.500000</td>\n",
       "      <td>never smoked</td>\n",
       "      <td>1</td>\n",
       "    </tr>\n",
       "    <tr>\n",
       "      <th>3</th>\n",
       "      <td>Female</td>\n",
       "      <td>49</td>\n",
       "      <td>0</td>\n",
       "      <td>0</td>\n",
       "      <td>Yes</td>\n",
       "      <td>Private</td>\n",
       "      <td>Urban</td>\n",
       "      <td>171.23</td>\n",
       "      <td>34.400000</td>\n",
       "      <td>smokes</td>\n",
       "      <td>1</td>\n",
       "    </tr>\n",
       "    <tr>\n",
       "      <th>4</th>\n",
       "      <td>Female</td>\n",
       "      <td>79</td>\n",
       "      <td>1</td>\n",
       "      <td>0</td>\n",
       "      <td>Yes</td>\n",
       "      <td>Self-employed</td>\n",
       "      <td>Rural</td>\n",
       "      <td>174.12</td>\n",
       "      <td>24.000000</td>\n",
       "      <td>never smoked</td>\n",
       "      <td>1</td>\n",
       "    </tr>\n",
       "  </tbody>\n",
       "</table>\n",
       "</div>"
      ],
      "text/plain": [
       "   gender  age  hypertension  heart_disease ever_married      work_type  \\\n",
       "0    Male   67             0              1          Yes        Private   \n",
       "1  Female   61             0              0          Yes  Self-employed   \n",
       "2    Male   80             0              1          Yes        Private   \n",
       "3  Female   49             0              0          Yes        Private   \n",
       "4  Female   79             1              0          Yes  Self-employed   \n",
       "\n",
       "  residence_type  avg_glucose_level        bmi   smoking_status  stroke  \n",
       "0          Urban             228.69  36.600000  formerly smoked       1  \n",
       "1          Rural             202.21  28.893237     never smoked       1  \n",
       "2          Rural             105.92  32.500000     never smoked       1  \n",
       "3          Urban             171.23  34.400000           smokes       1  \n",
       "4          Rural             174.12  24.000000     never smoked       1  "
      ]
     },
     "execution_count": 1409,
     "metadata": {},
     "output_type": "execute_result"
    }
   ],
   "source": [
    "df_clean.head()"
   ]
  },
  {
   "cell_type": "code",
   "execution_count": 1410,
   "id": "bf1dae71",
   "metadata": {},
   "outputs": [
    {
     "data": {
      "text/plain": [
       "(5110, 11)"
      ]
     },
     "execution_count": 1410,
     "metadata": {},
     "output_type": "execute_result"
    }
   ],
   "source": [
    "df_clean.shape"
   ]
  },
  {
   "cell_type": "code",
   "execution_count": 1411,
   "id": "172f0194",
   "metadata": {},
   "outputs": [
    {
     "data": {
      "text/html": [
       "<div>\n",
       "<style scoped>\n",
       "    .dataframe tbody tr th:only-of-type {\n",
       "        vertical-align: middle;\n",
       "    }\n",
       "\n",
       "    .dataframe tbody tr th {\n",
       "        vertical-align: top;\n",
       "    }\n",
       "\n",
       "    .dataframe thead th {\n",
       "        text-align: right;\n",
       "    }\n",
       "</style>\n",
       "<table border=\"1\" class=\"dataframe\">\n",
       "  <thead>\n",
       "    <tr style=\"text-align: right;\">\n",
       "      <th></th>\n",
       "      <th>gender</th>\n",
       "      <th>age</th>\n",
       "      <th>hypertension</th>\n",
       "      <th>heart_disease</th>\n",
       "      <th>ever_married</th>\n",
       "      <th>work_type</th>\n",
       "      <th>residence_type</th>\n",
       "      <th>avg_glucose_level</th>\n",
       "      <th>bmi</th>\n",
       "      <th>smoking_status</th>\n",
       "      <th>stroke</th>\n",
       "    </tr>\n",
       "  </thead>\n",
       "  <tbody>\n",
       "    <tr>\n",
       "      <th>3116</th>\n",
       "      <td>Other</td>\n",
       "      <td>26</td>\n",
       "      <td>0</td>\n",
       "      <td>0</td>\n",
       "      <td>No</td>\n",
       "      <td>Private</td>\n",
       "      <td>Rural</td>\n",
       "      <td>143.33</td>\n",
       "      <td>22.4</td>\n",
       "      <td>formerly smoked</td>\n",
       "      <td>0</td>\n",
       "    </tr>\n",
       "  </tbody>\n",
       "</table>\n",
       "</div>"
      ],
      "text/plain": [
       "     gender  age  hypertension  heart_disease ever_married work_type  \\\n",
       "3116  Other   26             0              0           No   Private   \n",
       "\n",
       "     residence_type  avg_glucose_level   bmi   smoking_status  stroke  \n",
       "3116          Rural             143.33  22.4  formerly smoked       0  "
      ]
     },
     "execution_count": 1411,
     "metadata": {},
     "output_type": "execute_result"
    }
   ],
   "source": [
    "df_clean[df_clean['gender'] == 'Other']"
   ]
  },
  {
   "cell_type": "code",
   "execution_count": 1412,
   "id": "a64d829f",
   "metadata": {
    "scrolled": false
   },
   "outputs": [],
   "source": [
    "#Index_to_remove = 3116; in gender column it is the only value = \"other\"\n",
    "df_clean.drop(3116, inplace=True)\n",
    "df_clean.reset_index(drop=True, inplace=True)"
   ]
  },
  {
   "cell_type": "code",
   "execution_count": 1413,
   "id": "ec0cad0a",
   "metadata": {},
   "outputs": [
    {
     "data": {
      "text/plain": [
       "(5109, 11)"
      ]
     },
     "execution_count": 1413,
     "metadata": {},
     "output_type": "execute_result"
    }
   ],
   "source": [
    "df_clean.shape"
   ]
  },
  {
   "cell_type": "code",
   "execution_count": 1414,
   "id": "b609d6e3",
   "metadata": {},
   "outputs": [
    {
     "name": "stdout",
     "output_type": "stream",
     "text": [
      "<class 'pandas.core.frame.DataFrame'>\n",
      "RangeIndex: 5109 entries, 0 to 5108\n",
      "Data columns (total 11 columns):\n",
      " #   Column             Non-Null Count  Dtype  \n",
      "---  ------             --------------  -----  \n",
      " 0   gender             5109 non-null   object \n",
      " 1   age                5109 non-null   int64  \n",
      " 2   hypertension       5109 non-null   int64  \n",
      " 3   heart_disease      5109 non-null   int64  \n",
      " 4   ever_married       5109 non-null   object \n",
      " 5   work_type          5109 non-null   object \n",
      " 6   residence_type     5109 non-null   object \n",
      " 7   avg_glucose_level  5109 non-null   float64\n",
      " 8   bmi                5109 non-null   float64\n",
      " 9   smoking_status     5109 non-null   object \n",
      " 10  stroke             5109 non-null   int64  \n",
      "dtypes: float64(2), int64(4), object(5)\n",
      "memory usage: 439.2+ KB\n"
     ]
    }
   ],
   "source": [
    "df_clean.info()"
   ]
  },
  {
   "cell_type": "code",
   "execution_count": 1415,
   "id": "3afb9335",
   "metadata": {},
   "outputs": [
    {
     "data": {
      "text/html": [
       "<div>\n",
       "<style scoped>\n",
       "    .dataframe tbody tr th:only-of-type {\n",
       "        vertical-align: middle;\n",
       "    }\n",
       "\n",
       "    .dataframe tbody tr th {\n",
       "        vertical-align: top;\n",
       "    }\n",
       "\n",
       "    .dataframe thead th {\n",
       "        text-align: right;\n",
       "    }\n",
       "</style>\n",
       "<table border=\"1\" class=\"dataframe\">\n",
       "  <thead>\n",
       "    <tr style=\"text-align: right;\">\n",
       "      <th></th>\n",
       "      <th>age</th>\n",
       "      <th>hypertension</th>\n",
       "      <th>heart_disease</th>\n",
       "      <th>avg_glucose_level</th>\n",
       "      <th>bmi</th>\n",
       "      <th>stroke</th>\n",
       "    </tr>\n",
       "  </thead>\n",
       "  <tbody>\n",
       "    <tr>\n",
       "      <th>age</th>\n",
       "      <td>1.000000</td>\n",
       "      <td>0.276273</td>\n",
       "      <td>0.263649</td>\n",
       "      <td>0.238212</td>\n",
       "      <td>0.326186</td>\n",
       "      <td>0.245109</td>\n",
       "    </tr>\n",
       "    <tr>\n",
       "      <th>hypertension</th>\n",
       "      <td>0.276273</td>\n",
       "      <td>1.000000</td>\n",
       "      <td>0.108292</td>\n",
       "      <td>0.174540</td>\n",
       "      <td>0.160147</td>\n",
       "      <td>0.127891</td>\n",
       "    </tr>\n",
       "    <tr>\n",
       "      <th>heart_disease</th>\n",
       "      <td>0.263649</td>\n",
       "      <td>0.108292</td>\n",
       "      <td>1.000000</td>\n",
       "      <td>0.161907</td>\n",
       "      <td>0.038862</td>\n",
       "      <td>0.134905</td>\n",
       "    </tr>\n",
       "    <tr>\n",
       "      <th>avg_glucose_level</th>\n",
       "      <td>0.238212</td>\n",
       "      <td>0.174540</td>\n",
       "      <td>0.161907</td>\n",
       "      <td>1.000000</td>\n",
       "      <td>0.168910</td>\n",
       "      <td>0.131991</td>\n",
       "    </tr>\n",
       "    <tr>\n",
       "      <th>bmi</th>\n",
       "      <td>0.326186</td>\n",
       "      <td>0.160147</td>\n",
       "      <td>0.038862</td>\n",
       "      <td>0.168910</td>\n",
       "      <td>1.000000</td>\n",
       "      <td>0.038912</td>\n",
       "    </tr>\n",
       "    <tr>\n",
       "      <th>stroke</th>\n",
       "      <td>0.245109</td>\n",
       "      <td>0.127891</td>\n",
       "      <td>0.134905</td>\n",
       "      <td>0.131991</td>\n",
       "      <td>0.038912</td>\n",
       "      <td>1.000000</td>\n",
       "    </tr>\n",
       "  </tbody>\n",
       "</table>\n",
       "</div>"
      ],
      "text/plain": [
       "                        age  hypertension  heart_disease  avg_glucose_level  \\\n",
       "age                1.000000      0.276273       0.263649           0.238212   \n",
       "hypertension       0.276273      1.000000       0.108292           0.174540   \n",
       "heart_disease      0.263649      0.108292       1.000000           0.161907   \n",
       "avg_glucose_level  0.238212      0.174540       0.161907           1.000000   \n",
       "bmi                0.326186      0.160147       0.038862           0.168910   \n",
       "stroke             0.245109      0.127891       0.134905           0.131991   \n",
       "\n",
       "                        bmi    stroke  \n",
       "age                0.326186  0.245109  \n",
       "hypertension       0.160147  0.127891  \n",
       "heart_disease      0.038862  0.134905  \n",
       "avg_glucose_level  0.168910  0.131991  \n",
       "bmi                1.000000  0.038912  \n",
       "stroke             0.038912  1.000000  "
      ]
     },
     "execution_count": 1415,
     "metadata": {},
     "output_type": "execute_result"
    },
    {
     "data": {
      "image/png": "[encoded data removed]",
      "text/plain": [
       "<Figure size 432x288 with 2 Axes>"
      ]
     },
     "metadata": {
      "needs_background": "light"
     },
     "output_type": "display_data"
    }
   ],
   "source": [
    "#Before I change stroke data type I'd like to check the corralation with the numerical columns\n",
    "numericals = df_clean.select_dtypes(np.number)\n",
    "sns.heatmap(numericals.corr(), annot=True)\n",
    "numericals.corr()"
   ]
  },
  {
   "cell_type": "code",
   "execution_count": 1416,
   "id": "ced3acc5",
   "metadata": {},
   "outputs": [],
   "source": [
    "#Correctly converting columns into appropriate classification\n",
    "df_clean['heart_disease'] = df_clean['heart_disease'].astype('object')\n",
    "df_clean['hypertension'] = df_clean['hypertension'].astype('object')\n",
    "df_clean['stroke'] = df_clean['stroke'].astype('object')"
   ]
  },
  {
   "cell_type": "code",
   "execution_count": 1417,
   "id": "a9d9a11b",
   "metadata": {},
   "outputs": [
    {
     "name": "stdout",
     "output_type": "stream",
     "text": [
      "Female    2994\n",
      "Male      2115\n",
      "Name: gender, dtype: int64 \n",
      "\n",
      "0    4611\n",
      "1     498\n",
      "Name: hypertension, dtype: int64 \n",
      "\n",
      "0    4833\n",
      "1     276\n",
      "Name: heart_disease, dtype: int64 \n",
      "\n",
      "Yes    3353\n",
      "No     1756\n",
      "Name: ever_married, dtype: int64 \n",
      "\n",
      "Private          2924\n",
      "Self-employed     819\n",
      "children          687\n",
      "Govt_job          657\n",
      "Never_worked       22\n",
      "Name: work_type, dtype: int64 \n",
      "\n",
      "Urban    2596\n",
      "Rural    2513\n",
      "Name: residence_type, dtype: int64 \n",
      "\n",
      "never smoked       1892\n",
      "Unknown            1544\n",
      "formerly smoked     884\n",
      "smokes              789\n",
      "Name: smoking_status, dtype: int64 \n",
      "\n",
      "0    4860\n",
      "1     249\n",
      "Name: stroke, dtype: int64 \n",
      "\n"
     ]
    }
   ],
   "source": [
    "for col in df_clean.select_dtypes(object).columns:\n",
    "    print(df_clean[col].value_counts(),'\\n')"
   ]
  },
  {
   "cell_type": "code",
   "execution_count": 1418,
   "id": "3c953698",
   "metadata": {},
   "outputs": [],
   "source": [
    "# Stroke is imbalanced with \"Never had a stroke\" = 4,860 and \"Had a stroke\" = 249. \n",
    "# I will combine children and never_worked to clean the column work_type\n",
    "# I will also relabel the binary classification in hypertension, heart_disease and stroke to a \"yes\" and \"no\" statement\n"
   ]
  },
  {
   "cell_type": "code",
   "execution_count": 1419,
   "id": "0c00cc98",
   "metadata": {},
   "outputs": [],
   "source": [
    "def relabel_work_type(x):\n",
    "    if x == 'children' or x == 'Never_worked':\n",
    "        return 'Never_worked'\n",
    "    \n",
    "    else:\n",
    "        return str(x)\n",
    "    \n",
    "df_clean['work_type'] = list(map(relabel_work_type, df_clean['work_type']))"
   ]
  },
  {
   "cell_type": "code",
   "execution_count": 1420,
   "id": "0f3df72f",
   "metadata": {},
   "outputs": [
    {
     "data": {
      "text/plain": [
       "Private          2924\n",
       "Self-employed     819\n",
       "Never_worked      709\n",
       "Govt_job          657\n",
       "Name: work_type, dtype: int64"
      ]
     },
     "execution_count": 1420,
     "metadata": {},
     "output_type": "execute_result"
    }
   ],
   "source": [
    "df_clean['work_type'].value_counts()"
   ]
  },
  {
   "cell_type": "code",
   "execution_count": 1421,
   "id": "95ce6809",
   "metadata": {},
   "outputs": [],
   "source": [
    "def relabel_yes_no(x):\n",
    "    if x == 0:\n",
    "        return 'No'\n",
    "    else:\n",
    "        return 'Yes'\n",
    "    \n",
    "df_clean['hypertension'] = list(map(relabel_yes_no, df_clean['hypertension']))\n",
    "df_clean['heart_disease'] = list(map(relabel_yes_no, df_clean['heart_disease']))\n",
    "df_clean['stroke'] = list(map(relabel_yes_no, df_clean['stroke']))"
   ]
  },
  {
   "cell_type": "code",
   "execution_count": 1422,
   "id": "eadbe898",
   "metadata": {},
   "outputs": [
    {
     "data": {
      "text/html": [
       "<div>\n",
       "<style scoped>\n",
       "    .dataframe tbody tr th:only-of-type {\n",
       "        vertical-align: middle;\n",
       "    }\n",
       "\n",
       "    .dataframe tbody tr th {\n",
       "        vertical-align: top;\n",
       "    }\n",
       "\n",
       "    .dataframe thead th {\n",
       "        text-align: right;\n",
       "    }\n",
       "</style>\n",
       "<table border=\"1\" class=\"dataframe\">\n",
       "  <thead>\n",
       "    <tr style=\"text-align: right;\">\n",
       "      <th></th>\n",
       "      <th>gender</th>\n",
       "      <th>age</th>\n",
       "      <th>hypertension</th>\n",
       "      <th>heart_disease</th>\n",
       "      <th>ever_married</th>\n",
       "      <th>work_type</th>\n",
       "      <th>residence_type</th>\n",
       "      <th>avg_glucose_level</th>\n",
       "      <th>bmi</th>\n",
       "      <th>smoking_status</th>\n",
       "      <th>stroke</th>\n",
       "    </tr>\n",
       "  </thead>\n",
       "  <tbody>\n",
       "    <tr>\n",
       "      <th>0</th>\n",
       "      <td>Male</td>\n",
       "      <td>67</td>\n",
       "      <td>No</td>\n",
       "      <td>Yes</td>\n",
       "      <td>Yes</td>\n",
       "      <td>Private</td>\n",
       "      <td>Urban</td>\n",
       "      <td>228.69</td>\n",
       "      <td>36.600000</td>\n",
       "      <td>formerly smoked</td>\n",
       "      <td>Yes</td>\n",
       "    </tr>\n",
       "    <tr>\n",
       "      <th>1</th>\n",
       "      <td>Female</td>\n",
       "      <td>61</td>\n",
       "      <td>No</td>\n",
       "      <td>No</td>\n",
       "      <td>Yes</td>\n",
       "      <td>Self-employed</td>\n",
       "      <td>Rural</td>\n",
       "      <td>202.21</td>\n",
       "      <td>28.893237</td>\n",
       "      <td>never smoked</td>\n",
       "      <td>Yes</td>\n",
       "    </tr>\n",
       "    <tr>\n",
       "      <th>2</th>\n",
       "      <td>Male</td>\n",
       "      <td>80</td>\n",
       "      <td>No</td>\n",
       "      <td>Yes</td>\n",
       "      <td>Yes</td>\n",
       "      <td>Private</td>\n",
       "      <td>Rural</td>\n",
       "      <td>105.92</td>\n",
       "      <td>32.500000</td>\n",
       "      <td>never smoked</td>\n",
       "      <td>Yes</td>\n",
       "    </tr>\n",
       "    <tr>\n",
       "      <th>3</th>\n",
       "      <td>Female</td>\n",
       "      <td>49</td>\n",
       "      <td>No</td>\n",
       "      <td>No</td>\n",
       "      <td>Yes</td>\n",
       "      <td>Private</td>\n",
       "      <td>Urban</td>\n",
       "      <td>171.23</td>\n",
       "      <td>34.400000</td>\n",
       "      <td>smokes</td>\n",
       "      <td>Yes</td>\n",
       "    </tr>\n",
       "    <tr>\n",
       "      <th>4</th>\n",
       "      <td>Female</td>\n",
       "      <td>79</td>\n",
       "      <td>Yes</td>\n",
       "      <td>No</td>\n",
       "      <td>Yes</td>\n",
       "      <td>Self-employed</td>\n",
       "      <td>Rural</td>\n",
       "      <td>174.12</td>\n",
       "      <td>24.000000</td>\n",
       "      <td>never smoked</td>\n",
       "      <td>Yes</td>\n",
       "    </tr>\n",
       "  </tbody>\n",
       "</table>\n",
       "</div>"
      ],
      "text/plain": [
       "   gender  age hypertension heart_disease ever_married      work_type  \\\n",
       "0    Male   67           No           Yes          Yes        Private   \n",
       "1  Female   61           No            No          Yes  Self-employed   \n",
       "2    Male   80           No           Yes          Yes        Private   \n",
       "3  Female   49           No            No          Yes        Private   \n",
       "4  Female   79          Yes            No          Yes  Self-employed   \n",
       "\n",
       "  residence_type  avg_glucose_level        bmi   smoking_status stroke  \n",
       "0          Urban             228.69  36.600000  formerly smoked    Yes  \n",
       "1          Rural             202.21  28.893237     never smoked    Yes  \n",
       "2          Rural             105.92  32.500000     never smoked    Yes  \n",
       "3          Urban             171.23  34.400000           smokes    Yes  \n",
       "4          Rural             174.12  24.000000     never smoked    Yes  "
      ]
     },
     "execution_count": 1422,
     "metadata": {},
     "output_type": "execute_result"
    }
   ],
   "source": [
    "df_clean.head()"
   ]
  },
  {
   "cell_type": "code",
   "execution_count": 1423,
   "id": "98f9033b",
   "metadata": {},
   "outputs": [
    {
     "data": {
      "text/html": [
       "<div>\n",
       "<style scoped>\n",
       "    .dataframe tbody tr th:only-of-type {\n",
       "        vertical-align: middle;\n",
       "    }\n",
       "\n",
       "    .dataframe tbody tr th {\n",
       "        vertical-align: top;\n",
       "    }\n",
       "\n",
       "    .dataframe thead th {\n",
       "        text-align: right;\n",
       "    }\n",
       "</style>\n",
       "<table border=\"1\" class=\"dataframe\">\n",
       "  <thead>\n",
       "    <tr style=\"text-align: right;\">\n",
       "      <th></th>\n",
       "      <th>age</th>\n",
       "      <th>avg_glucose_level</th>\n",
       "      <th>bmi</th>\n",
       "    </tr>\n",
       "  </thead>\n",
       "  <tbody>\n",
       "    <tr>\n",
       "      <th>count</th>\n",
       "      <td>5109.000000</td>\n",
       "      <td>5109.000000</td>\n",
       "      <td>5109.000000</td>\n",
       "    </tr>\n",
       "    <tr>\n",
       "      <th>mean</th>\n",
       "      <td>43.218634</td>\n",
       "      <td>106.140399</td>\n",
       "      <td>28.894508</td>\n",
       "    </tr>\n",
       "    <tr>\n",
       "      <th>std</th>\n",
       "      <td>22.634799</td>\n",
       "      <td>45.285004</td>\n",
       "      <td>7.698235</td>\n",
       "    </tr>\n",
       "    <tr>\n",
       "      <th>min</th>\n",
       "      <td>0.000000</td>\n",
       "      <td>55.120000</td>\n",
       "      <td>10.300000</td>\n",
       "    </tr>\n",
       "    <tr>\n",
       "      <th>25%</th>\n",
       "      <td>25.000000</td>\n",
       "      <td>77.240000</td>\n",
       "      <td>23.800000</td>\n",
       "    </tr>\n",
       "    <tr>\n",
       "      <th>50%</th>\n",
       "      <td>45.000000</td>\n",
       "      <td>91.880000</td>\n",
       "      <td>28.400000</td>\n",
       "    </tr>\n",
       "    <tr>\n",
       "      <th>75%</th>\n",
       "      <td>61.000000</td>\n",
       "      <td>114.090000</td>\n",
       "      <td>32.800000</td>\n",
       "    </tr>\n",
       "    <tr>\n",
       "      <th>max</th>\n",
       "      <td>82.000000</td>\n",
       "      <td>271.740000</td>\n",
       "      <td>97.600000</td>\n",
       "    </tr>\n",
       "  </tbody>\n",
       "</table>\n",
       "</div>"
      ],
      "text/plain": [
       "               age  avg_glucose_level          bmi\n",
       "count  5109.000000        5109.000000  5109.000000\n",
       "mean     43.218634         106.140399    28.894508\n",
       "std      22.634799          45.285004     7.698235\n",
       "min       0.000000          55.120000    10.300000\n",
       "25%      25.000000          77.240000    23.800000\n",
       "50%      45.000000          91.880000    28.400000\n",
       "75%      61.000000         114.090000    32.800000\n",
       "max      82.000000         271.740000    97.600000"
      ]
     },
     "execution_count": 1423,
     "metadata": {},
     "output_type": "execute_result"
    }
   ],
   "source": [
    "##I will now begin cleaning the numerical columns##\n",
    "\n",
    "#Avg age is 43 with a minimum of 0 years old and max of 82\n",
    "#Avg glucose level is 106 with a minimum of 55 and max of 271\n",
    "#Avg BMI is 29 with a minimum of 10 and a max of 98\n",
    "df_clean.describe()"
   ]
  },
  {
   "cell_type": "code",
   "execution_count": 1424,
   "id": "b4b6b583",
   "metadata": {},
   "outputs": [
    {
     "data": {
      "image/png": "[encoded data removed]",
      "text/plain": [
       "<Figure size 576x360 with 3 Axes>"
      ]
     },
     "metadata": {
      "needs_background": "light"
     },
     "output_type": "display_data"
    }
   ],
   "source": [
    "# From the figures below:\n",
    "# Age is left skewed with a mean of 43 but a median of 45\n",
    "# Avg glucose level is right skewed with a mean of 106 but a median of 92 \n",
    "# BMI is right skewed with a mean of 29 and a median of 28 .\n",
    "\n",
    "plt.figure(figsize=(8, 5))\n",
    "plt.subplot(131)  \n",
    "plt.hist(df_clean[\"age\"], edgecolor='black')\n",
    "plt.xlabel('Age')\n",
    "plt.ylabel('Count')\n",
    "plt.title('Avg Age')\n",
    "\n",
    "plt.subplot(132) \n",
    "plt.hist(df_clean[\"avg_glucose_level\"], edgecolor='black')\n",
    "plt.xlabel('Avg_glucose_level')\n",
    "plt.ylabel('Count')\n",
    "plt.title('Avg Glucose Level')\n",
    "\n",
    "plt.subplot(133)\n",
    "plt.hist(df_clean[\"bmi\"],edgecolor='black')\n",
    "plt.xlabel('BMI')\n",
    "plt.ylabel('Count')\n",
    "plt.title('Avg BMI')\n",
    "\n",
    "plt.tight_layout()\n",
    "plt.show()"
   ]
  },
  {
   "cell_type": "code",
   "execution_count": 1425,
   "id": "78136ea6",
   "metadata": {},
   "outputs": [
    {
     "name": "stdout",
     "output_type": "stream",
     "text": [
      "Number of patients had a stroke: 249\n",
      "Number of patients did not have a stroke:4860\n"
     ]
    }
   ],
   "source": [
    "#Getting a better look at the target column.\n",
    "# 4,861 instances of 'No stroke' and 249 instances of 'Stroke'\n",
    "#Data is imbalanced\n",
    "y = df_clean['stroke']\n",
    "print (f'Number of patients had a stroke: {y.value_counts()[1]}\\nNumber of patients did not have a stroke:{y.value_counts()[0]}')"
   ]
  },
  {
   "cell_type": "code",
   "execution_count": 1426,
   "id": "1bbed333",
   "metadata": {
    "scrolled": true
   },
   "outputs": [
    {
     "data": {
      "image/png": "[encoded data removed]",
      "text/plain": [
       "<Figure size 432x288 with 1 Axes>"
      ]
     },
     "metadata": {},
     "output_type": "display_data"
    }
   ],
   "source": [
    "df_clean.stroke.value_counts().plot.pie(autopct='%1.1f%%', shadow=True)\n",
    "plt.title('Stroke Distribution')\n",
    "plt.show()"
   ]
  },
  {
   "cell_type": "code",
   "execution_count": 1427,
   "id": "4c728428",
   "metadata": {},
   "outputs": [
    {
     "name": "stdout",
     "output_type": "stream",
     "text": [
      "age\n"
     ]
    },
    {
     "data": {
      "image/png": "[encoded data removed]",
      "text/plain": [
       "<Figure size 432x288 with 1 Axes>"
      ]
     },
     "metadata": {
      "needs_background": "light"
     },
     "output_type": "display_data"
    },
    {
     "name": "stdout",
     "output_type": "stream",
     "text": [
      "avg_glucose_level\n"
     ]
    },
    {
     "data": {
      "image/png": "[encoded data removed]",
      "text/plain": [
       "<Figure size 432x288 with 1 Axes>"
      ]
     },
     "metadata": {
      "needs_background": "light"
     },
     "output_type": "display_data"
    },
    {
     "name": "stdout",
     "output_type": "stream",
     "text": [
      "bmi\n"
     ]
    },
    {
     "data": {
      "image/png": "[encoded data removed]",
      "text/plain": [
       "<Figure size 432x288 with 1 Axes>"
      ]
     },
     "metadata": {
      "needs_background": "light"
     },
     "output_type": "display_data"
    },
    {
     "name": "stdout",
     "output_type": "stream",
     "text": [
      "age\n"
     ]
    },
    {
     "data": {
      "image/png": "[encoded data removed]",
      "text/plain": [
       "<Figure size 432x288 with 1 Axes>"
      ]
     },
     "metadata": {
      "needs_background": "light"
     },
     "output_type": "display_data"
    },
    {
     "name": "stdout",
     "output_type": "stream",
     "text": [
      "avg_glucose_level\n"
     ]
    },
    {
     "data": {
      "image/png": "[encoded data removed]",
      "text/plain": [
       "<Figure size 432x288 with 1 Axes>"
      ]
     },
     "metadata": {
      "needs_background": "light"
     },
     "output_type": "display_data"
    },
    {
     "name": "stdout",
     "output_type": "stream",
     "text": [
      "bmi\n"
     ]
    },
    {
     "data": {
      "image/png": "[encoded data removed]",
      "text/plain": [
       "<Figure size 432x288 with 1 Axes>"
      ]
     },
     "metadata": {
      "needs_background": "light"
     },
     "output_type": "display_data"
    }
   ],
   "source": [
    "#Managing outliers\n",
    "for num_col in df_clean.select_dtypes(np.number).columns:\n",
    "    print(num_col)\n",
    "    sns.distplot(x= df_clean[num_col])\n",
    "    plt.show()\n",
    "\n",
    "for num_col in df_clean.select_dtypes(np.number).columns:\n",
    "    print(num_col)\n",
    "    sns.boxplot (x = df_clean[num_col])\n",
    "    plt.show()"
   ]
  },
  {
   "cell_type": "code",
   "execution_count": 1428,
   "id": "0fe8d64e",
   "metadata": {},
   "outputs": [
    {
     "data": {
      "text/html": [
       "<div>\n",
       "<style scoped>\n",
       "    .dataframe tbody tr th:only-of-type {\n",
       "        vertical-align: middle;\n",
       "    }\n",
       "\n",
       "    .dataframe tbody tr th {\n",
       "        vertical-align: top;\n",
       "    }\n",
       "\n",
       "    .dataframe thead th {\n",
       "        text-align: right;\n",
       "    }\n",
       "</style>\n",
       "<table border=\"1\" class=\"dataframe\">\n",
       "  <thead>\n",
       "    <tr style=\"text-align: right;\">\n",
       "      <th></th>\n",
       "      <th>age</th>\n",
       "      <th>avg_glucose_level</th>\n",
       "      <th>bmi</th>\n",
       "    </tr>\n",
       "  </thead>\n",
       "  <tbody>\n",
       "    <tr>\n",
       "      <th>count</th>\n",
       "      <td>5109.000000</td>\n",
       "      <td>5109.000000</td>\n",
       "      <td>5109.000000</td>\n",
       "    </tr>\n",
       "    <tr>\n",
       "      <th>mean</th>\n",
       "      <td>43.218634</td>\n",
       "      <td>106.140399</td>\n",
       "      <td>28.894508</td>\n",
       "    </tr>\n",
       "    <tr>\n",
       "      <th>std</th>\n",
       "      <td>22.634799</td>\n",
       "      <td>45.285004</td>\n",
       "      <td>7.698235</td>\n",
       "    </tr>\n",
       "    <tr>\n",
       "      <th>min</th>\n",
       "      <td>0.000000</td>\n",
       "      <td>55.120000</td>\n",
       "      <td>10.300000</td>\n",
       "    </tr>\n",
       "    <tr>\n",
       "      <th>25%</th>\n",
       "      <td>25.000000</td>\n",
       "      <td>77.240000</td>\n",
       "      <td>23.800000</td>\n",
       "    </tr>\n",
       "    <tr>\n",
       "      <th>50%</th>\n",
       "      <td>45.000000</td>\n",
       "      <td>91.880000</td>\n",
       "      <td>28.400000</td>\n",
       "    </tr>\n",
       "    <tr>\n",
       "      <th>75%</th>\n",
       "      <td>61.000000</td>\n",
       "      <td>114.090000</td>\n",
       "      <td>32.800000</td>\n",
       "    </tr>\n",
       "    <tr>\n",
       "      <th>max</th>\n",
       "      <td>82.000000</td>\n",
       "      <td>271.740000</td>\n",
       "      <td>97.600000</td>\n",
       "    </tr>\n",
       "  </tbody>\n",
       "</table>\n",
       "</div>"
      ],
      "text/plain": [
       "               age  avg_glucose_level          bmi\n",
       "count  5109.000000        5109.000000  5109.000000\n",
       "mean     43.218634         106.140399    28.894508\n",
       "std      22.634799          45.285004     7.698235\n",
       "min       0.000000          55.120000    10.300000\n",
       "25%      25.000000          77.240000    23.800000\n",
       "50%      45.000000          91.880000    28.400000\n",
       "75%      61.000000         114.090000    32.800000\n",
       "max      82.000000         271.740000    97.600000"
      ]
     },
     "execution_count": 1428,
     "metadata": {},
     "output_type": "execute_result"
    }
   ],
   "source": [
    "df_clean.describe()"
   ]
  },
  {
   "cell_type": "code",
   "execution_count": 1429,
   "id": "c4b55384",
   "metadata": {},
   "outputs": [
    {
     "name": "stdout",
     "output_type": "stream",
     "text": [
      "number of outliers: 0\n",
      "max outlier value: nan\n",
      "min outlier value: nan\n"
     ]
    }
   ],
   "source": [
    "#Age does not have any outliers\n",
    "#Will manage outliers for avg glucose level and BMI.\n",
    "\n",
    "def find_outliers_IQR(df_clean):\n",
    "    q1=df_clean.quantile(0.25)\n",
    "    q3=df_clean.quantile(0.75)\n",
    "    IQR=q3-q1\n",
    "    outliers = df_clean[((df_clean<(q1-1.5*IQR)) | (df_clean>(q3+1.5*IQR)))]\n",
    "    return outliers\n",
    "\n",
    "outliers = find_outliers_IQR(df_clean['age'])\n",
    "print('number of outliers: '+ str(len(outliers)))\n",
    "print('max outlier value: '+ str(outliers.max()))\n",
    "print('min outlier value: '+ str(outliers.min()))\n"
   ]
  },
  {
   "cell_type": "code",
   "execution_count": 1430,
   "id": "0f3953f2",
   "metadata": {},
   "outputs": [
    {
     "name": "stdout",
     "output_type": "stream",
     "text": [
      "number of outliers: 627\n",
      "max outlier value: 271.74\n",
      "min outlier value: 169.43\n"
     ]
    }
   ],
   "source": [
    "outliers = find_outliers_IQR(df_clean['avg_glucose_level'])\n",
    "print('number of outliers: '+ str(len(outliers)))\n",
    "print('max outlier value: '+ str(outliers.max()))\n",
    "print('min outlier value: '+ str(outliers.min()))\n"
   ]
  },
  {
   "cell_type": "code",
   "execution_count": 1431,
   "id": "56c6f69d",
   "metadata": {},
   "outputs": [
    {
     "name": "stdout",
     "output_type": "stream",
     "text": [
      "number of outliers: 126\n",
      "max outlier value: 97.6\n",
      "min outlier value: 10.3\n"
     ]
    }
   ],
   "source": [
    "outliers = find_outliers_IQR(df_clean['bmi'])\n",
    "print('number of outliers: '+ str(len(outliers)))\n",
    "print('max outlier value: '+ str(outliers.max()))\n",
    "print('min outlier value: '+ str(outliers.min()))\n"
   ]
  },
  {
   "cell_type": "code",
   "execution_count": 1432,
   "id": "8e4a7459",
   "metadata": {},
   "outputs": [],
   "source": [
    "#The dataset is not very large so I will not be removing outliers. \n",
    "#Instead I will be using multiple transformations to normalize the dataset.\n",
    "\n",
    "x = ['avg_glucose_level','bmi']\n",
    "\n",
    "def power_transf(x):\n",
    "    return np.sqrt(x)\n",
    "\n",
    "def log_transf(x):\n",
    "    return np.log(x+1)\n",
    "\n",
    "def boxcox_transf(x):\n",
    "    return pd.Series(stats.boxcox(x+1)[0])\n",
    "\n",
    "\n"
   ]
  },
  {
   "cell_type": "code",
   "execution_count": 1433,
   "id": "67e311eb",
   "metadata": {},
   "outputs": [
    {
     "name": "stdout",
     "output_type": "stream",
     "text": [
      "avg_glucose_level\n"
     ]
    },
    {
     "data": {
      "image/png": "[encoded data removed]",
      "text/plain": [
       "<Figure size 432x288 with 1 Axes>"
      ]
     },
     "metadata": {
      "needs_background": "light"
     },
     "output_type": "display_data"
    },
    {
     "name": "stdout",
     "output_type": "stream",
     "text": [
      "bmi\n"
     ]
    },
    {
     "data": {
      "image/png": "[encoded data removed]",
      "text/plain": [
       "<Figure size 432x288 with 1 Axes>"
      ]
     },
     "metadata": {
      "needs_background": "light"
     },
     "output_type": "display_data"
    },
    {
     "name": "stdout",
     "output_type": "stream",
     "text": [
      "avg_glucose_level\n"
     ]
    },
    {
     "data": {
      "image/png": "[encoded data removed]",
      "text/plain": [
       "<Figure size 432x288 with 1 Axes>"
      ]
     },
     "metadata": {
      "needs_background": "light"
     },
     "output_type": "display_data"
    },
    {
     "name": "stdout",
     "output_type": "stream",
     "text": [
      "bmi\n"
     ]
    },
    {
     "data": {
      "image/png": "[encoded data removed]",
      "text/plain": [
       "<Figure size 432x288 with 1 Axes>"
      ]
     },
     "metadata": {
      "needs_background": "light"
     },
     "output_type": "display_data"
    }
   ],
   "source": [
    "for col in df_clean[x]:\n",
    "    print(col)\n",
    "    sns.distplot(power_transf(df_clean[col]))\n",
    "    plt.show()\n",
    "for col in df_clean[x]:\n",
    "    print(col)\n",
    "    sns.boxplot (power_transf(df_clean[col]))\n",
    "    plt.show()"
   ]
  },
  {
   "cell_type": "code",
   "execution_count": 1434,
   "id": "6a5992c6",
   "metadata": {},
   "outputs": [
    {
     "name": "stdout",
     "output_type": "stream",
     "text": [
      "avg_glucose_level\n"
     ]
    },
    {
     "data": {
      "image/png": "[encoded data removed]",
      "text/plain": [
       "<Figure size 432x288 with 1 Axes>"
      ]
     },
     "metadata": {
      "needs_background": "light"
     },
     "output_type": "display_data"
    },
    {
     "name": "stdout",
     "output_type": "stream",
     "text": [
      "bmi\n"
     ]
    },
    {
     "data": {
      "image/png": "[encoded data removed]",
      "text/plain": [
       "<Figure size 432x288 with 1 Axes>"
      ]
     },
     "metadata": {
      "needs_background": "light"
     },
     "output_type": "display_data"
    },
    {
     "name": "stdout",
     "output_type": "stream",
     "text": [
      "avg_glucose_level\n"
     ]
    },
    {
     "data": {
      "image/png": "[encoded data removed]",
      "text/plain": [
       "<Figure size 432x288 with 1 Axes>"
      ]
     },
     "metadata": {
      "needs_background": "light"
     },
     "output_type": "display_data"
    },
    {
     "name": "stdout",
     "output_type": "stream",
     "text": [
      "bmi\n"
     ]
    },
    {
     "data": {
      "image/png": "[encoded data removed]",
      "text/plain": [
       "<Figure size 432x288 with 1 Axes>"
      ]
     },
     "metadata": {
      "needs_background": "light"
     },
     "output_type": "display_data"
    }
   ],
   "source": [
    "for col in df_clean[x]:\n",
    "    print(col)\n",
    "    sns.distplot(log_transf(df_clean[col]))\n",
    "    plt.show()\n",
    "    \n",
    "for col in df_clean[x]:\n",
    "    print(col)\n",
    "    sns.boxplot (log_transf(df_clean[col]))\n",
    "    plt.show()"
   ]
  },
  {
   "cell_type": "code",
   "execution_count": 1435,
   "id": "b767575f",
   "metadata": {},
   "outputs": [
    {
     "name": "stdout",
     "output_type": "stream",
     "text": [
      "avg_glucose_level\n"
     ]
    },
    {
     "data": {
      "image/png": "[encoded data removed]",
      "text/plain": [
       "<Figure size 432x288 with 1 Axes>"
      ]
     },
     "metadata": {
      "needs_background": "light"
     },
     "output_type": "display_data"
    },
    {
     "name": "stdout",
     "output_type": "stream",
     "text": [
      "bmi\n"
     ]
    },
    {
     "data": {
      "image/png": "[encoded data removed]",
      "text/plain": [
       "<Figure size 432x288 with 1 Axes>"
      ]
     },
     "metadata": {
      "needs_background": "light"
     },
     "output_type": "display_data"
    },
    {
     "name": "stdout",
     "output_type": "stream",
     "text": [
      "avg_glucose_level\n"
     ]
    },
    {
     "data": {
      "image/png": "[encoded data removed]",
      "text/plain": [
       "<Figure size 432x288 with 1 Axes>"
      ]
     },
     "metadata": {
      "needs_background": "light"
     },
     "output_type": "display_data"
    },
    {
     "name": "stdout",
     "output_type": "stream",
     "text": [
      "bmi\n"
     ]
    },
    {
     "data": {
      "image/png": "[encoded data removed]",
      "text/plain": [
       "<Figure size 432x288 with 1 Axes>"
      ]
     },
     "metadata": {
      "needs_background": "light"
     },
     "output_type": "display_data"
    }
   ],
   "source": [
    "for col in df_clean[x]:\n",
    "    print(col)\n",
    "    sns.distplot(boxcox_transf(df_clean[col]))\n",
    "    plt.show()\n",
    "    \n",
    "for col in df_clean[x]:\n",
    "    print(col)\n",
    "    sns.boxplot (boxcox_transf(df_clean[col]))\n",
    "    plt.show()"
   ]
  },
  {
   "cell_type": "code",
   "execution_count": 1436,
   "id": "8e83ef7c",
   "metadata": {},
   "outputs": [
    {
     "name": "stdout",
     "output_type": "stream",
     "text": [
      "avg_glucose_level\n",
      "bmi\n"
     ]
    }
   ],
   "source": [
    "#Box-cox transformation worked best. Added a column with new box-cox transformations.\n",
    "#With this transformation, I am left with only 88 outliers in the BMI column.\n",
    "for col in cols:\n",
    "    print(col)\n",
    "    new_col_name = f'{col}_BoxCox'\n",
    "    df_clean[new_col_name] = boxcox_transf(df_clean[col])"
   ]
  },
  {
   "cell_type": "code",
   "execution_count": 1437,
   "id": "0e2b95e0",
   "metadata": {},
   "outputs": [
    {
     "data": {
      "text/html": [
       "<div>\n",
       "<style scoped>\n",
       "    .dataframe tbody tr th:only-of-type {\n",
       "        vertical-align: middle;\n",
       "    }\n",
       "\n",
       "    .dataframe tbody tr th {\n",
       "        vertical-align: top;\n",
       "    }\n",
       "\n",
       "    .dataframe thead th {\n",
       "        text-align: right;\n",
       "    }\n",
       "</style>\n",
       "<table border=\"1\" class=\"dataframe\">\n",
       "  <thead>\n",
       "    <tr style=\"text-align: right;\">\n",
       "      <th></th>\n",
       "      <th>gender</th>\n",
       "      <th>age</th>\n",
       "      <th>hypertension</th>\n",
       "      <th>heart_disease</th>\n",
       "      <th>ever_married</th>\n",
       "      <th>work_type</th>\n",
       "      <th>residence_type</th>\n",
       "      <th>avg_glucose_level</th>\n",
       "      <th>bmi</th>\n",
       "      <th>smoking_status</th>\n",
       "      <th>stroke</th>\n",
       "      <th>avg_glucose_level_BoxCox</th>\n",
       "      <th>bmi_BoxCox</th>\n",
       "    </tr>\n",
       "  </thead>\n",
       "  <tbody>\n",
       "    <tr>\n",
       "      <th>0</th>\n",
       "      <td>Male</td>\n",
       "      <td>67</td>\n",
       "      <td>No</td>\n",
       "      <td>Yes</td>\n",
       "      <td>Yes</td>\n",
       "      <td>Private</td>\n",
       "      <td>Urban</td>\n",
       "      <td>228.69</td>\n",
       "      <td>36.600000</td>\n",
       "      <td>formerly smoked</td>\n",
       "      <td>Yes</td>\n",
       "      <td>0.926296</td>\n",
       "      <td>3.501538</td>\n",
       "    </tr>\n",
       "    <tr>\n",
       "      <th>1</th>\n",
       "      <td>Female</td>\n",
       "      <td>61</td>\n",
       "      <td>No</td>\n",
       "      <td>No</td>\n",
       "      <td>Yes</td>\n",
       "      <td>Self-employed</td>\n",
       "      <td>Rural</td>\n",
       "      <td>202.21</td>\n",
       "      <td>28.893237</td>\n",
       "      <td>never smoked</td>\n",
       "      <td>Yes</td>\n",
       "      <td>0.925920</td>\n",
       "      <td>3.287371</td>\n",
       "    </tr>\n",
       "    <tr>\n",
       "      <th>2</th>\n",
       "      <td>Male</td>\n",
       "      <td>80</td>\n",
       "      <td>No</td>\n",
       "      <td>Yes</td>\n",
       "      <td>Yes</td>\n",
       "      <td>Private</td>\n",
       "      <td>Rural</td>\n",
       "      <td>105.92</td>\n",
       "      <td>32.500000</td>\n",
       "      <td>never smoked</td>\n",
       "      <td>Yes</td>\n",
       "      <td>0.922886</td>\n",
       "      <td>3.393853</td>\n",
       "    </tr>\n",
       "    <tr>\n",
       "      <th>3</th>\n",
       "      <td>Female</td>\n",
       "      <td>49</td>\n",
       "      <td>No</td>\n",
       "      <td>No</td>\n",
       "      <td>Yes</td>\n",
       "      <td>Private</td>\n",
       "      <td>Urban</td>\n",
       "      <td>171.23</td>\n",
       "      <td>34.400000</td>\n",
       "      <td>smokes</td>\n",
       "      <td>Yes</td>\n",
       "      <td>0.925326</td>\n",
       "      <td>3.445335</td>\n",
       "    </tr>\n",
       "    <tr>\n",
       "      <th>4</th>\n",
       "      <td>Female</td>\n",
       "      <td>79</td>\n",
       "      <td>Yes</td>\n",
       "      <td>No</td>\n",
       "      <td>Yes</td>\n",
       "      <td>Self-employed</td>\n",
       "      <td>Rural</td>\n",
       "      <td>174.12</td>\n",
       "      <td>24.000000</td>\n",
       "      <td>never smoked</td>\n",
       "      <td>Yes</td>\n",
       "      <td>0.925391</td>\n",
       "      <td>3.119797</td>\n",
       "    </tr>\n",
       "  </tbody>\n",
       "</table>\n",
       "</div>"
      ],
      "text/plain": [
       "   gender  age hypertension heart_disease ever_married      work_type  \\\n",
       "0    Male   67           No           Yes          Yes        Private   \n",
       "1  Female   61           No            No          Yes  Self-employed   \n",
       "2    Male   80           No           Yes          Yes        Private   \n",
       "3  Female   49           No            No          Yes        Private   \n",
       "4  Female   79          Yes            No          Yes  Self-employed   \n",
       "\n",
       "  residence_type  avg_glucose_level        bmi   smoking_status stroke  \\\n",
       "0          Urban             228.69  36.600000  formerly smoked    Yes   \n",
       "1          Rural             202.21  28.893237     never smoked    Yes   \n",
       "2          Rural             105.92  32.500000     never smoked    Yes   \n",
       "3          Urban             171.23  34.400000           smokes    Yes   \n",
       "4          Rural             174.12  24.000000     never smoked    Yes   \n",
       "\n",
       "   avg_glucose_level_BoxCox  bmi_BoxCox  \n",
       "0                  0.926296    3.501538  \n",
       "1                  0.925920    3.287371  \n",
       "2                  0.922886    3.393853  \n",
       "3                  0.925326    3.445335  \n",
       "4                  0.925391    3.119797  "
      ]
     },
     "execution_count": 1437,
     "metadata": {},
     "output_type": "execute_result"
    }
   ],
   "source": [
    "df_clean.head()"
   ]
  },
  {
   "cell_type": "code",
   "execution_count": 1438,
   "id": "5435249f",
   "metadata": {},
   "outputs": [
    {
     "name": "stdout",
     "output_type": "stream",
     "text": [
      "number of outliers: 126\n",
      "max outlier value: 97.6\n",
      "min outlier value: 10.3\n"
     ]
    }
   ],
   "source": [
    "outliers = find_outliers_IQR(df_clean['bmi'])\n",
    "print('number of outliers: '+ str(len(outliers)))\n",
    "print('max outlier value: '+ str(outliers.max()))\n",
    "print('min outlier value: '+ str(outliers.min()))"
   ]
  },
  {
   "cell_type": "code",
   "execution_count": 1439,
   "id": "a205b3ea",
   "metadata": {},
   "outputs": [
    {
     "name": "stdout",
     "output_type": "stream",
     "text": [
      "number of outliers: 88\n",
      "max outlier value: 4.39128307356539\n",
      "min outlier value: 2.368289656625583\n"
     ]
    }
   ],
   "source": [
    "outliers = find_outliers_IQR(df_clean['bmi_BoxCox'])\n",
    "print('number of outliers: '+ str(len(outliers)))\n",
    "print('max outlier value: '+ str(outliers.max()))\n",
    "print('min outlier value: '+ str(outliers.min()))"
   ]
  },
  {
   "cell_type": "code",
   "execution_count": 1440,
   "id": "dd86c2e2",
   "metadata": {},
   "outputs": [
    {
     "name": "stdout",
     "output_type": "stream",
     "text": [
      "number of outliers: 627\n",
      "max outlier value: 271.74\n",
      "min outlier value: 169.43\n"
     ]
    }
   ],
   "source": [
    "outliers = find_outliers_IQR(df_clean['avg_glucose_level'])\n",
    "print('number of outliers: '+ str(len(outliers)))\n",
    "print('max outlier value: '+ str(outliers.max()))\n",
    "print('min outlier value: '+ str(outliers.min()))"
   ]
  },
  {
   "cell_type": "code",
   "execution_count": 1441,
   "id": "a27503b1",
   "metadata": {},
   "outputs": [
    {
     "name": "stdout",
     "output_type": "stream",
     "text": [
      "number of outliers: 0\n",
      "max outlier value: nan\n",
      "min outlier value: nan\n"
     ]
    }
   ],
   "source": [
    "outliers = find_outliers_IQR(df_clean['avg_glucose_level_BoxCox'])\n",
    "print('number of outliers: '+ str(len(outliers)))\n",
    "print('max outlier value: '+ str(outliers.max()))\n",
    "print('min outlier value: '+ str(outliers.min()))"
   ]
  },
  {
   "cell_type": "code",
   "execution_count": 1442,
   "id": "95ee3a5f",
   "metadata": {},
   "outputs": [
    {
     "data": {
      "text/plain": [
       "<AxesSubplot:>"
      ]
     },
     "execution_count": 1442,
     "metadata": {},
     "output_type": "execute_result"
    },
    {
     "data": {
      "image/png": "[encoded data removed]",
      "text/plain": [
       "<Figure size 432x288 with 2 Axes>"
      ]
     },
     "metadata": {
      "needs_background": "light"
     },
     "output_type": "display_data"
    }
   ],
   "source": [
    "#The transformed columns are obviously highly correlated to the original column.\n",
    "\n",
    "numericals = df_clean.select_dtypes(np.number)\n",
    "sns.heatmap(numericals.corr(), annot=True)"
   ]
  },
  {
   "cell_type": "code",
   "execution_count": 1443,
   "id": "bd877b55",
   "metadata": {},
   "outputs": [
    {
     "data": {
      "text/html": [
       "<div>\n",
       "<style scoped>\n",
       "    .dataframe tbody tr th:only-of-type {\n",
       "        vertical-align: middle;\n",
       "    }\n",
       "\n",
       "    .dataframe tbody tr th {\n",
       "        vertical-align: top;\n",
       "    }\n",
       "\n",
       "    .dataframe thead th {\n",
       "        text-align: right;\n",
       "    }\n",
       "</style>\n",
       "<table border=\"1\" class=\"dataframe\">\n",
       "  <thead>\n",
       "    <tr style=\"text-align: right;\">\n",
       "      <th></th>\n",
       "      <th>age</th>\n",
       "      <th>avg_glucose_level_BoxCox</th>\n",
       "      <th>bmi_BoxCox</th>\n",
       "    </tr>\n",
       "  </thead>\n",
       "  <tbody>\n",
       "    <tr>\n",
       "      <th>0</th>\n",
       "      <td>67</td>\n",
       "      <td>0.926296</td>\n",
       "      <td>3.501538</td>\n",
       "    </tr>\n",
       "    <tr>\n",
       "      <th>1</th>\n",
       "      <td>61</td>\n",
       "      <td>0.925920</td>\n",
       "      <td>3.287371</td>\n",
       "    </tr>\n",
       "    <tr>\n",
       "      <th>2</th>\n",
       "      <td>80</td>\n",
       "      <td>0.922886</td>\n",
       "      <td>3.393853</td>\n",
       "    </tr>\n",
       "    <tr>\n",
       "      <th>3</th>\n",
       "      <td>49</td>\n",
       "      <td>0.925326</td>\n",
       "      <td>3.445335</td>\n",
       "    </tr>\n",
       "    <tr>\n",
       "      <th>4</th>\n",
       "      <td>79</td>\n",
       "      <td>0.925391</td>\n",
       "      <td>3.119797</td>\n",
       "    </tr>\n",
       "  </tbody>\n",
       "</table>\n",
       "</div>"
      ],
      "text/plain": [
       "   age  avg_glucose_level_BoxCox  bmi_BoxCox\n",
       "0   67                  0.926296    3.501538\n",
       "1   61                  0.925920    3.287371\n",
       "2   80                  0.922886    3.393853\n",
       "3   49                  0.925326    3.445335\n",
       "4   79                  0.925391    3.119797"
      ]
     },
     "execution_count": 1443,
     "metadata": {},
     "output_type": "execute_result"
    }
   ],
   "source": [
    "numericals = numericals.drop(['bmi', 'avg_glucose_level'], axis=1)\n",
    "numericals.head()"
   ]
  },
  {
   "cell_type": "code",
   "execution_count": 1444,
   "id": "eb5b71c3",
   "metadata": {},
   "outputs": [
    {
     "name": "stdout",
     "output_type": "stream",
     "text": [
      "Vif for column age =  5.48552233123652\n",
      "Vif for column avg_glucose_level_BoxCox =  209.86659652078757\n",
      "Vif for column bmi_BoxCox =  230.1953805755407\n"
     ]
    }
   ],
   "source": [
    "#The transformed columns are highly inflated, i will not drop them as i do not want to lose too much data.\n",
    "from statsmodels.stats.outliers_influence import variance_inflation_factor\n",
    "for i in range(numericals.shape[1]):\n",
    "    vif = variance_inflation_factor(np.array(numericals), i)\n",
    "    print(\"Vif for column\", numericals.columns[i], \"= \", vif)"
   ]
  },
  {
   "cell_type": "code",
   "execution_count": 1445,
   "id": "b2d2a2f3",
   "metadata": {},
   "outputs": [],
   "source": [
    "df_clean.to_csv('/Users/sarahrestrepo/Desktop/Final_Project/data_cleaning_stroke_drop.csv')"
   ]
  }
 ],
 "metadata": {
  "kernelspec": {
   "display_name": "Python 3 (ipykernel)",
   "language": "python",
   "name": "python3"
  },
  "language_info": {
   "codemirror_mode": {
    "name": "ipython",
    "version": 3
   },
   "file_extension": ".py",
   "mimetype": "text/x-python",
   "name": "python",
   "nbconvert_exporter": "python",
   "pygments_lexer": "ipython3",
   "version": "3.9.12"
  }
 },
 "nbformat": 4,
 "nbformat_minor": 5
}
